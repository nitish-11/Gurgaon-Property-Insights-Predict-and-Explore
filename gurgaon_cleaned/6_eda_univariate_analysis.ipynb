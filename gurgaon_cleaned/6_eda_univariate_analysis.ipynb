{
  "cells": [
    {
      "cell_type": "code",
      "execution_count": 2,
      "metadata": {
        "id": "tNr94bw5sWEO"
      },
      "outputs": [],
      "source": [
        "import pandas as pd\n",
        "import numpy as np\n",
        "import matplotlib.pyplot as plt\n",
        "import seaborn as sns"
      ]
    },
    {
      "cell_type": "code",
      "execution_count": 3,
      "metadata": {
        "id": "wVF5Ac3Xskwd"
      },
      "outputs": [],
      "source": [
        "df = pd.read_csv('../gurgaon_data/gurgaon_properties_cleaned_v2.csv')"
      ]
    },
    {
      "cell_type": "code",
      "execution_count": 4,
      "metadata": {
        "colab": {
          "base_uri": "https://localhost:8080/",
          "height": 283
        },
        "id": "vOrH3Z0zssMy",
        "outputId": "0b5a71a4-5c7e-4954-8b56-34680524833b"
      },
      "outputs": [
        {
          "data": {
            "text/html": [
              "<div>\n",
              "<style scoped>\n",
              "    .dataframe tbody tr th:only-of-type {\n",
              "        vertical-align: middle;\n",
              "    }\n",
              "\n",
              "    .dataframe tbody tr th {\n",
              "        vertical-align: top;\n",
              "    }\n",
              "\n",
              "    .dataframe thead th {\n",
              "        text-align: right;\n",
              "    }\n",
              "</style>\n",
              "<table border=\"1\" class=\"dataframe\">\n",
              "  <thead>\n",
              "    <tr style=\"text-align: right;\">\n",
              "      <th></th>\n",
              "      <th>property_type</th>\n",
              "      <th>society</th>\n",
              "      <th>sector</th>\n",
              "      <th>price</th>\n",
              "      <th>price_per_sqft</th>\n",
              "      <th>area</th>\n",
              "      <th>areaWithType</th>\n",
              "      <th>bedRoom</th>\n",
              "      <th>bathroom</th>\n",
              "      <th>balcony</th>\n",
              "      <th>...</th>\n",
              "      <th>super_built_up_area</th>\n",
              "      <th>built_up_area</th>\n",
              "      <th>carpet_area</th>\n",
              "      <th>study room</th>\n",
              "      <th>servant room</th>\n",
              "      <th>store room</th>\n",
              "      <th>pooja room</th>\n",
              "      <th>others</th>\n",
              "      <th>furnishing_type</th>\n",
              "      <th>luxury_score</th>\n",
              "    </tr>\n",
              "  </thead>\n",
              "  <tbody>\n",
              "    <tr>\n",
              "      <th>3652</th>\n",
              "      <td>house</td>\n",
              "      <td>emaar mgf marbella</td>\n",
              "      <td>sector 66</td>\n",
              "      <td>8.80</td>\n",
              "      <td>41615.0</td>\n",
              "      <td>2115.0</td>\n",
              "      <td>Built Up area: 267 (223.25 sq.m.)</td>\n",
              "      <td>4</td>\n",
              "      <td>4</td>\n",
              "      <td>3+</td>\n",
              "      <td>...</td>\n",
              "      <td>NaN</td>\n",
              "      <td>267.00</td>\n",
              "      <td>NaN</td>\n",
              "      <td>0</td>\n",
              "      <td>1</td>\n",
              "      <td>1</td>\n",
              "      <td>1</td>\n",
              "      <td>0</td>\n",
              "      <td>1</td>\n",
              "      <td>107</td>\n",
              "    </tr>\n",
              "    <tr>\n",
              "      <th>2533</th>\n",
              "      <td>house</td>\n",
              "      <td>independent</td>\n",
              "      <td>sector 56</td>\n",
              "      <td>11.95</td>\n",
              "      <td>43534.0</td>\n",
              "      <td>2745.0</td>\n",
              "      <td>Plot area 305(255.02 sq.m.)</td>\n",
              "      <td>12</td>\n",
              "      <td>12</td>\n",
              "      <td>3+</td>\n",
              "      <td>...</td>\n",
              "      <td>NaN</td>\n",
              "      <td>2744.02</td>\n",
              "      <td>NaN</td>\n",
              "      <td>0</td>\n",
              "      <td>1</td>\n",
              "      <td>0</td>\n",
              "      <td>0</td>\n",
              "      <td>0</td>\n",
              "      <td>2</td>\n",
              "      <td>21</td>\n",
              "    </tr>\n",
              "  </tbody>\n",
              "</table>\n",
              "<p>2 rows × 23 columns</p>\n",
              "</div>"
            ],
            "text/plain": [
              "     property_type             society     sector  price  price_per_sqft  \\\n",
              "3652         house  emaar mgf marbella  sector 66   8.80         41615.0   \n",
              "2533         house         independent  sector 56  11.95         43534.0   \n",
              "\n",
              "        area                       areaWithType  bedRoom  bathroom balcony  \\\n",
              "3652  2115.0  Built Up area: 267 (223.25 sq.m.)        4         4      3+   \n",
              "2533  2745.0        Plot area 305(255.02 sq.m.)       12        12      3+   \n",
              "\n",
              "      ...  super_built_up_area built_up_area carpet_area  study room  \\\n",
              "3652  ...                  NaN        267.00         NaN           0   \n",
              "2533  ...                  NaN       2744.02         NaN           0   \n",
              "\n",
              "      servant room  store room  pooja room  others  furnishing_type  \\\n",
              "3652             1           1           1       0                1   \n",
              "2533             1           0           0       0                2   \n",
              "\n",
              "      luxury_score  \n",
              "3652           107  \n",
              "2533            21  \n",
              "\n",
              "[2 rows x 23 columns]"
            ]
          },
          "execution_count": 4,
          "metadata": {},
          "output_type": "execute_result"
        }
      ],
      "source": [
        "df.sample(2)"
      ]
    },
    {
      "cell_type": "code",
      "execution_count": 5,
      "metadata": {
        "colab": {
          "base_uri": "https://localhost:8080/"
        },
        "id": "xSIJqE5Ws3-y",
        "outputId": "fc3f9dbc-1a32-4f5f-966c-3f61265273a2"
      },
      "outputs": [
        {
          "data": {
            "text/plain": [
              "(3803, 23)"
            ]
          },
          "execution_count": 5,
          "metadata": {},
          "output_type": "execute_result"
        }
      ],
      "source": [
        "df.shape"
      ]
    },
    {
      "cell_type": "code",
      "execution_count": 6,
      "metadata": {
        "colab": {
          "base_uri": "https://localhost:8080/"
        },
        "id": "4c6uJmwss5Ei",
        "outputId": "e42122ef-9b4b-4c9e-c045-33387d5908c7"
      },
      "outputs": [
        {
          "name": "stdout",
          "output_type": "stream",
          "text": [
            "<class 'pandas.core.frame.DataFrame'>\n",
            "RangeIndex: 3803 entries, 0 to 3802\n",
            "Data columns (total 23 columns):\n",
            " #   Column               Non-Null Count  Dtype  \n",
            "---  ------               --------------  -----  \n",
            " 0   property_type        3803 non-null   object \n",
            " 1   society              3802 non-null   object \n",
            " 2   sector               3803 non-null   object \n",
            " 3   price                3785 non-null   float64\n",
            " 4   price_per_sqft       3785 non-null   float64\n",
            " 5   area                 3785 non-null   float64\n",
            " 6   areaWithType         3803 non-null   object \n",
            " 7   bedRoom              3803 non-null   int64  \n",
            " 8   bathroom             3803 non-null   int64  \n",
            " 9   balcony              3803 non-null   object \n",
            " 10  floorNum             3784 non-null   float64\n",
            " 11  facing               2698 non-null   object \n",
            " 12  agePossession        3803 non-null   object \n",
            " 13  super_built_up_area  1915 non-null   float64\n",
            " 14  built_up_area        1726 non-null   float64\n",
            " 15  carpet_area          1944 non-null   float64\n",
            " 16  study room           3803 non-null   int64  \n",
            " 17  servant room         3803 non-null   int64  \n",
            " 18  store room           3803 non-null   int64  \n",
            " 19  pooja room           3803 non-null   int64  \n",
            " 20  others               3803 non-null   int64  \n",
            " 21  furnishing_type      3803 non-null   int64  \n",
            " 22  luxury_score         3803 non-null   int64  \n",
            "dtypes: float64(7), int64(9), object(7)\n",
            "memory usage: 683.5+ KB\n"
          ]
        }
      ],
      "source": [
        "df.info()"
      ]
    },
    {
      "cell_type": "code",
      "execution_count": 7,
      "metadata": {
        "colab": {
          "base_uri": "https://localhost:8080/"
        },
        "id": "vfnxMTvos7Cr",
        "outputId": "364c4038-d7ae-4218-b950-1f67ff6fb45c"
      },
      "outputs": [
        {
          "data": {
            "text/plain": [
              "np.int64(126)"
            ]
          },
          "execution_count": 7,
          "metadata": {},
          "output_type": "execute_result"
        }
      ],
      "source": [
        "df.duplicated().sum()"
      ]
    },
    {
      "cell_type": "code",
      "execution_count": 8,
      "metadata": {
        "id": "6p_YpJ8atN8Y"
      },
      "outputs": [],
      "source": [
        "df.drop_duplicates(inplace=True)"
      ]
    },
    {
      "cell_type": "code",
      "execution_count": 9,
      "metadata": {
        "colab": {
          "base_uri": "https://localhost:8080/"
        },
        "id": "X9Q1qo1vtTpd",
        "outputId": "eb427cdc-4c99-4773-bb8f-ea6c45f9e7af"
      },
      "outputs": [
        {
          "data": {
            "text/plain": [
              "(3677, 23)"
            ]
          },
          "execution_count": 9,
          "metadata": {},
          "output_type": "execute_result"
        }
      ],
      "source": [
        "df.shape"
      ]
    },
    {
      "cell_type": "code",
      "execution_count": 10,
      "metadata": {},
      "outputs": [
        {
          "data": {
            "text/plain": [
              "Index(['property_type', 'society', 'sector', 'price', 'price_per_sqft', 'area',\n",
              "       'areaWithType', 'bedRoom', 'bathroom', 'balcony', 'floorNum', 'facing',\n",
              "       'agePossession', 'super_built_up_area', 'built_up_area', 'carpet_area',\n",
              "       'study room', 'servant room', 'store room', 'pooja room', 'others',\n",
              "       'furnishing_type', 'luxury_score'],\n",
              "      dtype='object')"
            ]
          },
          "execution_count": 10,
          "metadata": {},
          "output_type": "execute_result"
        }
      ],
      "source": [
        "df.columns"
      ]
    },
    {
      "cell_type": "markdown",
      "metadata": {
        "id": "OOwy-ZTTtaob"
      },
      "source": [
        "## property_type"
      ]
    },
    {
      "cell_type": "code",
      "execution_count": null,
      "metadata": {
        "colab": {
          "base_uri": "https://localhost:8080/",
          "height": 494
        },
        "id": "0X2hmLXNtY2n",
        "outputId": "d075fef6-b44b-4e39-c56f-61ed7cf62177"
      },
      "outputs": [
        {
          "data": {
            "text/plain": [
              "<Axes: xlabel='property_type'>"
            ]
          },
          "execution_count": 9,
          "metadata": {},
          "output_type": "execute_result"
        },
        {
          "data": {
            "image/png": "[encoded data removed]",
            "text/plain": [
              "<Figure size 640x480 with 1 Axes>"
            ]
          },
          "metadata": {},
          "output_type": "display_data"
        }
      ],
      "source": [
        "df['property_type'].value_counts().plot(kind='bar')"
      ]
    },
    {
      "cell_type": "markdown",
      "metadata": {
        "id": "94BsZR4etkQL"
      },
      "source": [
        "### Observations\n",
        "- Flats are in majority(75 percent) and there are less number of houses(~25 percent)\n",
        "-No missing values"
      ]
    },
    {
      "cell_type": "markdown",
      "metadata": {
        "id": "Xgb2Y0vStrHs"
      },
      "source": [
        "## society"
      ]
    },
    {
      "cell_type": "code",
      "execution_count": 11,
      "metadata": {
        "colab": {
          "base_uri": "https://localhost:8080/",
          "height": 489
        },
        "id": "7ibn7E-Stphq",
        "outputId": "8c6b7216-3bce-493d-b25a-056396e0ab28"
      },
      "outputs": [
        {
          "data": {
            "text/plain": [
              "society\n",
              "independent                             486\n",
              "tulip violet                             75\n",
              "ss the leaf                              73\n",
              "shapoorji pallonji joyville gurugram     42\n",
              "dlf new town heights                     42\n",
              "                                       ... \n",
              "rail vihar cghs                           1\n",
              "rk tower                                  1\n",
              "antriksh green                            1\n",
              "imperia elvedor                           1\n",
              "m3m golf hills                            1\n",
              "Name: count, Length: 676, dtype: int64"
            ]
          },
          "execution_count": 11,
          "metadata": {},
          "output_type": "execute_result"
        }
      ],
      "source": [
        "df['society'].value_counts()"
      ]
    },
    {
      "cell_type": "code",
      "execution_count": 12,
      "metadata": {
        "colab": {
          "base_uri": "https://localhost:8080/",
          "height": 489
        },
        "id": "cGchCmkKtzY7",
        "outputId": "41e4c0ec-d9be-46b5-d0cd-7f8527194347"
      },
      "outputs": [
        {
          "data": {
            "text/plain": [
              "society\n",
              "tulip violet                            0.023511\n",
              "ss the leaf                             0.046395\n",
              "shapoorji pallonji joyville gurugram    0.059561\n",
              "dlf new town heights                    0.072727\n",
              "signature global park                   0.083699\n",
              "                                          ...   \n",
              "ramsons kshitij                         0.490282\n",
              "ats kocoon                              0.494357\n",
              "ansal heights 86                        0.498433\n",
              "ireo the corridors                      0.502194\n",
              "mvn athens                              0.505956\n",
              "Name: proportion, Length: 75, dtype: float64"
            ]
          },
          "execution_count": 12,
          "metadata": {},
          "output_type": "execute_result"
        }
      ],
      "source": [
        "df[df['society'] != 'independent']['society'].value_counts(normalize=True).cumsum().head(75)"
      ]
    },
    {
      "cell_type": "code",
      "execution_count": 13,
      "metadata": {
        "colab": {
          "base_uri": "https://localhost:8080/"
        },
        "id": "nWly_lulyq63",
        "outputId": "3d6b97b9-e1e4-4b5c-c99c-431cd6bc8a5d"
      },
      "outputs": [
        {
          "data": {
            "text/plain": [
              "{'Very High (>100)': np.int64(1),\n",
              " 'High (50-100)': np.int64(2),\n",
              " 'Average (10-49)': np.int64(92),\n",
              " 'Low (2-9)': np.int64(273),\n",
              " 'Very Low (1)': np.int64(308)}"
            ]
          },
          "execution_count": 13,
          "metadata": {},
          "output_type": "execute_result"
        }
      ],
      "source": [
        "society_counts = df['society'].value_counts()\n",
        "\n",
        "# Frequency distribution for societies\n",
        "frequency_bins = {\n",
        "    \"Very High (>100)\": (society_counts > 100).sum(),\n",
        "    \"High (50-100)\": ((society_counts >= 50) & (society_counts <= 100)).sum(),\n",
        "    \"Average (10-49)\": ((society_counts >= 10) & (society_counts < 50)).sum(),\n",
        "    \"Low (2-9)\": ((society_counts > 1) & (society_counts < 10)).sum(),\n",
        "    \"Very Low (1)\": (society_counts == 1).sum()\n",
        "}\n",
        "frequency_bins"
      ]
    },
    {
      "cell_type": "code",
      "execution_count": 14,
      "metadata": {
        "colab": {
          "base_uri": "https://localhost:8080/",
          "height": 698
        },
        "id": "BwoOyC5oJYeD",
        "outputId": "e04a0e67-fd73-421f-81f6-6e00d12ec416"
      },
      "outputs": [
        {
          "data": {
            "text/plain": [
              "<Axes: xlabel='society'>"
            ]
          },
          "execution_count": 14,
          "metadata": {},
          "output_type": "execute_result"
        },
        {
          "data": {
            "image/png": "[encoded data removed]",
            "text/plain": [
              "<Figure size 640x480 with 1 Axes>"
            ]
          },
          "metadata": {},
          "output_type": "display_data"
        }
      ],
      "source": [
        "# top 10 socities\n",
        "\n",
        "df['society'][df['society'] != 'independent'].value_counts().head(10).plot(kind='bar')"
      ]
    },
    {
      "cell_type": "code",
      "execution_count": 15,
      "metadata": {
        "colab": {
          "base_uri": "https://localhost:8080/"
        },
        "id": "fFv_zlUiJ3xI",
        "outputId": "e5270bdf-ce02-41cf-bad8-b89c4f10db53"
      },
      "outputs": [
        {
          "data": {
            "text/plain": [
              "np.int64(1)"
            ]
          },
          "execution_count": 15,
          "metadata": {},
          "output_type": "execute_result"
        }
      ],
      "source": [
        "df['society'].isnull().sum()"
      ]
    },
    {
      "cell_type": "code",
      "execution_count": 16,
      "metadata": {
        "colab": {
          "base_uri": "https://localhost:8080/",
          "height": 182
        },
        "id": "ykUZvwq2KMB3",
        "outputId": "c4d3e951-2276-4bd6-872d-eb75b4ace538"
      },
      "outputs": [
        {
          "data": {
            "text/html": [
              "<div>\n",
              "<style scoped>\n",
              "    .dataframe tbody tr th:only-of-type {\n",
              "        vertical-align: middle;\n",
              "    }\n",
              "\n",
              "    .dataframe tbody tr th {\n",
              "        vertical-align: top;\n",
              "    }\n",
              "\n",
              "    .dataframe thead th {\n",
              "        text-align: right;\n",
              "    }\n",
              "</style>\n",
              "<table border=\"1\" class=\"dataframe\">\n",
              "  <thead>\n",
              "    <tr style=\"text-align: right;\">\n",
              "      <th></th>\n",
              "      <th>property_type</th>\n",
              "      <th>society</th>\n",
              "      <th>sector</th>\n",
              "      <th>price</th>\n",
              "      <th>price_per_sqft</th>\n",
              "      <th>area</th>\n",
              "      <th>areaWithType</th>\n",
              "      <th>bedRoom</th>\n",
              "      <th>bathroom</th>\n",
              "      <th>balcony</th>\n",
              "      <th>...</th>\n",
              "      <th>super_built_up_area</th>\n",
              "      <th>built_up_area</th>\n",
              "      <th>carpet_area</th>\n",
              "      <th>study room</th>\n",
              "      <th>servant room</th>\n",
              "      <th>store room</th>\n",
              "      <th>pooja room</th>\n",
              "      <th>others</th>\n",
              "      <th>furnishing_type</th>\n",
              "      <th>luxury_score</th>\n",
              "    </tr>\n",
              "  </thead>\n",
              "  <tbody>\n",
              "    <tr>\n",
              "      <th>2693</th>\n",
              "      <td>flat</td>\n",
              "      <td>NaN</td>\n",
              "      <td>sector 78</td>\n",
              "      <td>0.6</td>\n",
              "      <td>3692.0</td>\n",
              "      <td>1625.0</td>\n",
              "      <td>Built Up area: 1625 (150.97 sq.m.)</td>\n",
              "      <td>2</td>\n",
              "      <td>2</td>\n",
              "      <td>0</td>\n",
              "      <td>...</td>\n",
              "      <td>NaN</td>\n",
              "      <td>1625.0</td>\n",
              "      <td>NaN</td>\n",
              "      <td>0</td>\n",
              "      <td>0</td>\n",
              "      <td>0</td>\n",
              "      <td>0</td>\n",
              "      <td>0</td>\n",
              "      <td>1</td>\n",
              "      <td>0</td>\n",
              "    </tr>\n",
              "  </tbody>\n",
              "</table>\n",
              "<p>1 rows × 23 columns</p>\n",
              "</div>"
            ],
            "text/plain": [
              "     property_type society     sector  price  price_per_sqft    area  \\\n",
              "2693          flat     NaN  sector 78    0.6          3692.0  1625.0   \n",
              "\n",
              "                            areaWithType  bedRoom  bathroom balcony  ...  \\\n",
              "2693  Built Up area: 1625 (150.97 sq.m.)        2         2       0  ...   \n",
              "\n",
              "      super_built_up_area built_up_area carpet_area  study room  servant room  \\\n",
              "2693                  NaN        1625.0         NaN           0             0   \n",
              "\n",
              "      store room  pooja room  others  furnishing_type  luxury_score  \n",
              "2693           0           0       0                1             0  \n",
              "\n",
              "[1 rows x 23 columns]"
            ]
          },
          "execution_count": 16,
          "metadata": {},
          "output_type": "execute_result"
        }
      ],
      "source": [
        "df[df['society'].isnull()]"
      ]
    },
    {
      "cell_type": "markdown",
      "metadata": {
        "id": "90iaNariKji2"
      },
      "source": [
        "Observations\n",
        "- Around 13% properties comes under independent tag.\n",
        "There are 675 societies.\n",
        "- The top 75 societies have 50 percent of the preperties and the rest 50 percent of the properties come under the remaining 600 societies\n",
        "- Very High (>100): Only 1 society has more than 100 listings.\n",
        "- High (50-100): 2 societies have between 50 to 100 listings.\n",
        "- Average (10-49): 92 societies fall in this range with 10 to 49 listings each.\n",
        "- Low (2-9): 273 societies have between 2 to 9 listings.\n",
        "- Very Low (1): A significant number, 308 societies, have only 1 listing.\n",
        "1 missing value"
      ]
    },
    {
      "cell_type": "markdown",
      "metadata": {
        "id": "W74LekfDKxL-"
      },
      "source": [
        "# sector"
      ]
    },
    {
      "cell_type": "code",
      "execution_count": 17,
      "metadata": {
        "colab": {
          "base_uri": "https://localhost:8080/"
        },
        "id": "Q11M5SAfKutG",
        "outputId": "4f865470-194f-43ad-f80e-426b8397d0c9"
      },
      "outputs": [
        {
          "data": {
            "text/plain": [
              "(113,)"
            ]
          },
          "execution_count": 17,
          "metadata": {},
          "output_type": "execute_result"
        }
      ],
      "source": [
        "df['sector'].value_counts().shape"
      ]
    },
    {
      "cell_type": "code",
      "execution_count": 18,
      "metadata": {
        "colab": {
          "base_uri": "https://localhost:8080/",
          "height": 1000
        },
        "id": "TEvz43mrLJ0m",
        "outputId": "a8be09e4-8ac1-4207-a690-7b7a3d3ea9a4"
      },
      "outputs": [
        {
          "data": {
            "text/plain": [
              "sector\n",
              "sohna road    0.041882\n",
              "sector 85     0.071254\n",
              "sector 102    0.100354\n",
              "sector 92     0.127550\n",
              "sector 69     0.152842\n",
              "sector 90     0.177047\n",
              "sector 81     0.200707\n",
              "sector 65     0.224368\n",
              "sector 109    0.247756\n",
              "sector 79     0.268425\n",
              "sector 33     0.287191\n",
              "sector 104    0.305956\n",
              "sector 83     0.324449\n",
              "sector 43     0.342127\n",
              "sector 86     0.359532\n",
              "sector 50     0.376938\n",
              "sector 37d    0.394071\n",
              "sector 2      0.410933\n",
              "sector 95     0.427794\n",
              "sector 107    0.444112\n",
              "sector 108    0.460158\n",
              "sector 89     0.475660\n",
              "sector 56     0.490889\n",
              "sector 48     0.505847\n",
              "sector 70a    0.520533\n",
              "sector 37c    0.534403\n",
              "sector 26     0.548001\n",
              "sector 70     0.561599\n",
              "sector 84     0.574925\n",
              "sector 4      0.588251\n",
              "sector 49     0.601305\n",
              "sector 67     0.614088\n",
              "sector 66     0.626598\n",
              "sector 28     0.638564\n",
              "sector 113    0.650258\n",
              "sector 103    0.661681\n",
              "sector 25     0.673103\n",
              "sector 82     0.684253\n",
              "sector 61     0.695404\n",
              "sector 7      0.706010\n",
              "sector 106    0.716345\n",
              "sector 12     0.726135\n",
              "manesar       0.735110\n",
              "sector 99a    0.743269\n",
              "sector 68     0.751428\n",
              "sector 54     0.759587\n",
              "sector 72     0.767473\n",
              "sector 77     0.774816\n",
              "sector 71     0.782159\n",
              "sector 57     0.788686\n",
              "Name: proportion, dtype: float64"
            ]
          },
          "execution_count": 18,
          "metadata": {},
          "output_type": "execute_result"
        }
      ],
      "source": [
        "df['sector'].value_counts(normalize=True).cumsum().head(50)"
      ]
    },
    {
      "cell_type": "code",
      "execution_count": null,
      "metadata": {
        "colab": {
          "base_uri": "https://localhost:8080/",
          "height": 530
        },
        "id": "jNUmahJqLTdP",
        "outputId": "7302444d-8cbd-4909-b529-728ee1cf8fa7"
      },
      "outputs": [
        {
          "data": {
            "text/plain": [
              "<Axes: xlabel='sector'>"
            ]
          },
          "execution_count": 26,
          "metadata": {},
          "output_type": "execute_result"
        },
        {
          "data": {
            "image/png": "[encoded data removed]",
            "text/plain": [
              "<Figure size 640x480 with 1 Axes>"
            ]
          },
          "metadata": {},
          "output_type": "display_data"
        }
      ],
      "source": [
        "df['sector'].value_counts().head(10).plot(kind='bar')"
      ]
    },
    {
      "cell_type": "code",
      "execution_count": 23,
      "metadata": {
        "colab": {
          "base_uri": "https://localhost:8080/"
        },
        "id": "4vjaPsJ2LeBO",
        "outputId": "df6cac23-0863-4833-bfae-03f6120b3eea"
      },
      "outputs": [
        {
          "data": {
            "text/plain": [
              "{'Very High (>100)': np.int64(4),\n",
              " 'High (50-100)': np.int64(25),\n",
              " 'Average (10-49)': np.int64(63),\n",
              " 'Low (2-9)': np.int64(21),\n",
              " 'Very Low (1)': np.int64(1)}"
            ]
          },
          "execution_count": 23,
          "metadata": {},
          "output_type": "execute_result"
        }
      ],
      "source": [
        "sector_counts = df['sector'].value_counts()\n",
        "\n",
        "sector_frequency_bins = {\n",
        "    \"Very High (>100)\": (sector_counts>=100).sum(),\n",
        "    \"High (50-100)\": ((sector_counts >= 50) & (sector_counts <= 100)).sum(),\n",
        "    \"Average (10-49)\": ((sector_counts >= 10) & (sector_counts < 50)).sum(),\n",
        "    \"Low (2-9)\": ((sector_counts > 1) & (sector_counts < 10)).sum(),\n",
        "    \"Very Low (1)\": (sector_counts == 1).sum()\n",
        "}\n",
        "\n",
        "sector_frequency_bins"
      ]
    },
    {
      "cell_type": "code",
      "execution_count": 20,
      "metadata": {
        "colab": {
          "base_uri": "https://localhost:8080/",
          "height": 489
        },
        "id": "2r95itEBMFG_",
        "outputId": "b871c529-6d74-47e6-e36f-4494954bdc09"
      },
      "outputs": [
        {
          "data": {
            "text/plain": [
              "sector\n",
              "sohna road    154\n",
              "sector 85     108\n",
              "sector 102    107\n",
              "sector 92     100\n",
              "sector 69      93\n",
              "             ... \n",
              "sector 17b      3\n",
              "sector 73       3\n",
              "sector 88b      3\n",
              "sector 27       3\n",
              "sector 37       1\n",
              "Name: count, Length: 113, dtype: int64"
            ]
          },
          "execution_count": 20,
          "metadata": {},
          "output_type": "execute_result"
        }
      ],
      "source": [
        "sector_counts"
      ]
    },
    {
      "cell_type": "code",
      "execution_count": 21,
      "metadata": {},
      "outputs": [
        {
          "data": {
            "text/html": [
              "<div>\n",
              "<style scoped>\n",
              "    .dataframe tbody tr th:only-of-type {\n",
              "        vertical-align: middle;\n",
              "    }\n",
              "\n",
              "    .dataframe tbody tr th {\n",
              "        vertical-align: top;\n",
              "    }\n",
              "\n",
              "    .dataframe thead th {\n",
              "        text-align: right;\n",
              "    }\n",
              "</style>\n",
              "<table border=\"1\" class=\"dataframe\">\n",
              "  <thead>\n",
              "    <tr style=\"text-align: right;\">\n",
              "      <th></th>\n",
              "      <th>count</th>\n",
              "    </tr>\n",
              "    <tr>\n",
              "      <th>sector</th>\n",
              "      <th></th>\n",
              "    </tr>\n",
              "  </thead>\n",
              "  <tbody>\n",
              "    <tr>\n",
              "      <th>sohna road</th>\n",
              "      <td>154</td>\n",
              "    </tr>\n",
              "    <tr>\n",
              "      <th>sector 85</th>\n",
              "      <td>108</td>\n",
              "    </tr>\n",
              "    <tr>\n",
              "      <th>sector 102</th>\n",
              "      <td>107</td>\n",
              "    </tr>\n",
              "    <tr>\n",
              "      <th>sector 92</th>\n",
              "      <td>100</td>\n",
              "    </tr>\n",
              "    <tr>\n",
              "      <th>sector 69</th>\n",
              "      <td>93</td>\n",
              "    </tr>\n",
              "    <tr>\n",
              "      <th>...</th>\n",
              "      <td>...</td>\n",
              "    </tr>\n",
              "    <tr>\n",
              "      <th>sector 17b</th>\n",
              "      <td>3</td>\n",
              "    </tr>\n",
              "    <tr>\n",
              "      <th>sector 73</th>\n",
              "      <td>3</td>\n",
              "    </tr>\n",
              "    <tr>\n",
              "      <th>sector 88b</th>\n",
              "      <td>3</td>\n",
              "    </tr>\n",
              "    <tr>\n",
              "      <th>sector 27</th>\n",
              "      <td>3</td>\n",
              "    </tr>\n",
              "    <tr>\n",
              "      <th>sector 37</th>\n",
              "      <td>1</td>\n",
              "    </tr>\n",
              "  </tbody>\n",
              "</table>\n",
              "<p>113 rows × 1 columns</p>\n",
              "</div>"
            ],
            "text/plain": [
              "            count\n",
              "sector           \n",
              "sohna road    154\n",
              "sector 85     108\n",
              "sector 102    107\n",
              "sector 92     100\n",
              "sector 69      93\n",
              "...           ...\n",
              "sector 17b      3\n",
              "sector 73       3\n",
              "sector 88b      3\n",
              "sector 27       3\n",
              "sector 37       1\n",
              "\n",
              "[113 rows x 1 columns]"
            ]
          },
          "execution_count": 21,
          "metadata": {},
          "output_type": "execute_result"
        }
      ],
      "source": [
        "pd.DataFrame(sector_counts)"
      ]
    },
    {
      "cell_type": "markdown",
      "metadata": {
        "id": "IpPqygiSMnYP"
      },
      "source": [
        "Observations\n",
        "- There are a total of 104 unique sectors in the dataset.\n",
        "- Frequency distribution of sectors:\n",
        "  + Very High (>100): 3 sectors have more than 100 listings.\n",
        "  + High (50-100): 25 sectors have between 50 to 100 listings.\n",
        "  + Average (10-49): A majority, 60 sectors, fall in this range with 10 to 49\n",
        "  listings each.\n",
        "  + Low (2-9): 16 sectors have between 2 to 9 listings.\n",
        "Very Low (1): Interestingly, there are no sectors with only 1 listing."
      ]
    },
    {
      "cell_type": "markdown",
      "metadata": {
        "id": "ZZngXeKFNtzn"
      },
      "source": [
        "# Price"
      ]
    },
    {
      "cell_type": "code",
      "execution_count": 24,
      "metadata": {
        "colab": {
          "base_uri": "https://localhost:8080/",
          "height": 335
        },
        "id": "ZSWTSoBXMkHI",
        "outputId": "661b9161-252b-470d-b8ec-a86158b77ed1"
      },
      "outputs": [
        {
          "data": {
            "text/plain": [
              "count    3660.000000\n",
              "mean        2.533664\n",
              "std         2.980623\n",
              "min         0.070000\n",
              "25%         0.950000\n",
              "50%         1.520000\n",
              "75%         2.750000\n",
              "max        31.500000\n",
              "Name: price, dtype: float64"
            ]
          },
          "execution_count": 24,
          "metadata": {},
          "output_type": "execute_result"
        }
      ],
      "source": [
        "df['price'].describe()"
      ]
    },
    {
      "cell_type": "code",
      "execution_count": 51,
      "metadata": {
        "colab": {
          "base_uri": "https://localhost:8080/"
        },
        "id": "vxPMwdenN5Rm",
        "outputId": "831353c5-8237-4e87-aaed-87cad04214a8"
      },
      "outputs": [
        {
          "data": {
            "text/plain": [
              "np.int64(17)"
            ]
          },
          "execution_count": 51,
          "metadata": {},
          "output_type": "execute_result"
        }
      ],
      "source": [
        "df['price'].isnull().sum()"
      ]
    },
    {
      "cell_type": "code",
      "execution_count": 52,
      "metadata": {
        "colab": {
          "base_uri": "https://localhost:8080/",
          "height": 1000
        },
        "id": "IdWj8QDfN9Z5",
        "outputId": "046042cf-b7ca-4958-89df-d9a7a7230f4b"
      },
      "outputs": [
        {
          "data": {
            "text/html": [
              "<div>\n",
              "<style scoped>\n",
              "    .dataframe tbody tr th:only-of-type {\n",
              "        vertical-align: middle;\n",
              "    }\n",
              "\n",
              "    .dataframe tbody tr th {\n",
              "        vertical-align: top;\n",
              "    }\n",
              "\n",
              "    .dataframe thead th {\n",
              "        text-align: right;\n",
              "    }\n",
              "</style>\n",
              "<table border=\"1\" class=\"dataframe\">\n",
              "  <thead>\n",
              "    <tr style=\"text-align: right;\">\n",
              "      <th></th>\n",
              "      <th>property_type</th>\n",
              "      <th>society</th>\n",
              "      <th>sector</th>\n",
              "      <th>price</th>\n",
              "      <th>price_per_sqft</th>\n",
              "      <th>area</th>\n",
              "      <th>areaWithType</th>\n",
              "      <th>bedRoom</th>\n",
              "      <th>bathroom</th>\n",
              "      <th>balcony</th>\n",
              "      <th>...</th>\n",
              "      <th>super_built_up_area</th>\n",
              "      <th>built_up_area</th>\n",
              "      <th>carpet_area</th>\n",
              "      <th>study room</th>\n",
              "      <th>servant room</th>\n",
              "      <th>store room</th>\n",
              "      <th>pooja room</th>\n",
              "      <th>others</th>\n",
              "      <th>furnishing_type</th>\n",
              "      <th>luxury_score</th>\n",
              "    </tr>\n",
              "  </thead>\n",
              "  <tbody>\n",
              "    <tr>\n",
              "      <th>38</th>\n",
              "      <td>house</td>\n",
              "      <td>emaar mgf marbella</td>\n",
              "      <td>sector 66</td>\n",
              "      <td>NaN</td>\n",
              "      <td>NaN</td>\n",
              "      <td>NaN</td>\n",
              "      <td>Plot area 350(292.64 sq.m.)</td>\n",
              "      <td>5</td>\n",
              "      <td>5</td>\n",
              "      <td>3</td>\n",
              "      <td>...</td>\n",
              "      <td>NaN</td>\n",
              "      <td>3148.81</td>\n",
              "      <td>NaN</td>\n",
              "      <td>0</td>\n",
              "      <td>0</td>\n",
              "      <td>0</td>\n",
              "      <td>0</td>\n",
              "      <td>0</td>\n",
              "      <td>2</td>\n",
              "      <td>22</td>\n",
              "    </tr>\n",
              "    <tr>\n",
              "      <th>304</th>\n",
              "      <td>house</td>\n",
              "      <td>not applicable</td>\n",
              "      <td>sector 4</td>\n",
              "      <td>NaN</td>\n",
              "      <td>NaN</td>\n",
              "      <td>NaN</td>\n",
              "      <td>Plot area 670(560.21 sq.m.)</td>\n",
              "      <td>5</td>\n",
              "      <td>3</td>\n",
              "      <td>2</td>\n",
              "      <td>...</td>\n",
              "      <td>NaN</td>\n",
              "      <td>6027.86</td>\n",
              "      <td>NaN</td>\n",
              "      <td>0</td>\n",
              "      <td>0</td>\n",
              "      <td>0</td>\n",
              "      <td>0</td>\n",
              "      <td>0</td>\n",
              "      <td>1</td>\n",
              "      <td>0</td>\n",
              "    </tr>\n",
              "    <tr>\n",
              "      <th>401</th>\n",
              "      <td>house</td>\n",
              "      <td>independent</td>\n",
              "      <td>sector 11</td>\n",
              "      <td>NaN</td>\n",
              "      <td>NaN</td>\n",
              "      <td>NaN</td>\n",
              "      <td>Plot area 1000(92.9 sq.m.)</td>\n",
              "      <td>2</td>\n",
              "      <td>2</td>\n",
              "      <td>1</td>\n",
              "      <td>...</td>\n",
              "      <td>NaN</td>\n",
              "      <td>999.60</td>\n",
              "      <td>NaN</td>\n",
              "      <td>0</td>\n",
              "      <td>0</td>\n",
              "      <td>0</td>\n",
              "      <td>0</td>\n",
              "      <td>0</td>\n",
              "      <td>1</td>\n",
              "      <td>0</td>\n",
              "    </tr>\n",
              "    <tr>\n",
              "      <th>596</th>\n",
              "      <td>house</td>\n",
              "      <td>emaar mgf marbella</td>\n",
              "      <td>sector 66</td>\n",
              "      <td>NaN</td>\n",
              "      <td>NaN</td>\n",
              "      <td>NaN</td>\n",
              "      <td>Plot area 350(292.64 sq.m.)Built Up area: 6500...</td>\n",
              "      <td>4</td>\n",
              "      <td>4</td>\n",
              "      <td>3+</td>\n",
              "      <td>...</td>\n",
              "      <td>NaN</td>\n",
              "      <td>6500.00</td>\n",
              "      <td>NaN</td>\n",
              "      <td>1</td>\n",
              "      <td>1</td>\n",
              "      <td>1</td>\n",
              "      <td>1</td>\n",
              "      <td>0</td>\n",
              "      <td>1</td>\n",
              "      <td>136</td>\n",
              "    </tr>\n",
              "    <tr>\n",
              "      <th>813</th>\n",
              "      <td>house</td>\n",
              "      <td>unitech greenwood city</td>\n",
              "      <td>sector 45</td>\n",
              "      <td>NaN</td>\n",
              "      <td>NaN</td>\n",
              "      <td>NaN</td>\n",
              "      <td>Plot area 240(200.67 sq.m.)</td>\n",
              "      <td>9</td>\n",
              "      <td>9</td>\n",
              "      <td>3+</td>\n",
              "      <td>...</td>\n",
              "      <td>NaN</td>\n",
              "      <td>2159.21</td>\n",
              "      <td>NaN</td>\n",
              "      <td>1</td>\n",
              "      <td>1</td>\n",
              "      <td>0</td>\n",
              "      <td>0</td>\n",
              "      <td>0</td>\n",
              "      <td>0</td>\n",
              "      <td>110</td>\n",
              "    </tr>\n",
              "    <tr>\n",
              "      <th>922</th>\n",
              "      <td>house</td>\n",
              "      <td>emaar mgf marbella</td>\n",
              "      <td>sector 66</td>\n",
              "      <td>NaN</td>\n",
              "      <td>NaN</td>\n",
              "      <td>NaN</td>\n",
              "      <td>Plot area 350(292.64 sq.m.)</td>\n",
              "      <td>5</td>\n",
              "      <td>5</td>\n",
              "      <td>3+</td>\n",
              "      <td>...</td>\n",
              "      <td>NaN</td>\n",
              "      <td>3148.81</td>\n",
              "      <td>NaN</td>\n",
              "      <td>1</td>\n",
              "      <td>1</td>\n",
              "      <td>0</td>\n",
              "      <td>1</td>\n",
              "      <td>0</td>\n",
              "      <td>2</td>\n",
              "      <td>160</td>\n",
              "    </tr>\n",
              "    <tr>\n",
              "      <th>1419</th>\n",
              "      <td>house</td>\n",
              "      <td>unitech uniworld resorts</td>\n",
              "      <td>sector 33</td>\n",
              "      <td>NaN</td>\n",
              "      <td>NaN</td>\n",
              "      <td>NaN</td>\n",
              "      <td>Plot area 502(419.74 sq.m.)</td>\n",
              "      <td>5</td>\n",
              "      <td>7</td>\n",
              "      <td>3+</td>\n",
              "      <td>...</td>\n",
              "      <td>NaN</td>\n",
              "      <td>4516.40</td>\n",
              "      <td>NaN</td>\n",
              "      <td>0</td>\n",
              "      <td>1</td>\n",
              "      <td>0</td>\n",
              "      <td>0</td>\n",
              "      <td>0</td>\n",
              "      <td>1</td>\n",
              "      <td>87</td>\n",
              "    </tr>\n",
              "    <tr>\n",
              "      <th>1481</th>\n",
              "      <td>house</td>\n",
              "      <td>independent</td>\n",
              "      <td>sector 25</td>\n",
              "      <td>NaN</td>\n",
              "      <td>NaN</td>\n",
              "      <td>NaN</td>\n",
              "      <td>Plot area 502(419.74 sq.m.)Built Up area: 450 ...</td>\n",
              "      <td>5</td>\n",
              "      <td>5</td>\n",
              "      <td>3+</td>\n",
              "      <td>...</td>\n",
              "      <td>NaN</td>\n",
              "      <td>450.00</td>\n",
              "      <td>400.00</td>\n",
              "      <td>1</td>\n",
              "      <td>1</td>\n",
              "      <td>0</td>\n",
              "      <td>1</td>\n",
              "      <td>1</td>\n",
              "      <td>2</td>\n",
              "      <td>49</td>\n",
              "    </tr>\n",
              "    <tr>\n",
              "      <th>1974</th>\n",
              "      <td>flat</td>\n",
              "      <td>signature global orchard avenue 2</td>\n",
              "      <td>sector 93</td>\n",
              "      <td>NaN</td>\n",
              "      <td>NaN</td>\n",
              "      <td>NaN</td>\n",
              "      <td>Carpet area: 577.11 (53.62 sq.m.)</td>\n",
              "      <td>2</td>\n",
              "      <td>2</td>\n",
              "      <td>3</td>\n",
              "      <td>...</td>\n",
              "      <td>NaN</td>\n",
              "      <td>NaN</td>\n",
              "      <td>577.11</td>\n",
              "      <td>0</td>\n",
              "      <td>0</td>\n",
              "      <td>0</td>\n",
              "      <td>0</td>\n",
              "      <td>0</td>\n",
              "      <td>1</td>\n",
              "      <td>104</td>\n",
              "    </tr>\n",
              "    <tr>\n",
              "      <th>2013</th>\n",
              "      <td>house</td>\n",
              "      <td>dlf city plot phase 3</td>\n",
              "      <td>sector 24</td>\n",
              "      <td>NaN</td>\n",
              "      <td>NaN</td>\n",
              "      <td>NaN</td>\n",
              "      <td>Built Up area: 5000 (464.52 sq.m.)</td>\n",
              "      <td>5</td>\n",
              "      <td>5</td>\n",
              "      <td>3+</td>\n",
              "      <td>...</td>\n",
              "      <td>NaN</td>\n",
              "      <td>5000.00</td>\n",
              "      <td>NaN</td>\n",
              "      <td>0</td>\n",
              "      <td>0</td>\n",
              "      <td>0</td>\n",
              "      <td>0</td>\n",
              "      <td>0</td>\n",
              "      <td>1</td>\n",
              "      <td>0</td>\n",
              "    </tr>\n",
              "    <tr>\n",
              "      <th>2139</th>\n",
              "      <td>house</td>\n",
              "      <td>unitech uniworld resorts</td>\n",
              "      <td>sector 33</td>\n",
              "      <td>NaN</td>\n",
              "      <td>NaN</td>\n",
              "      <td>NaN</td>\n",
              "      <td>Plot area 520(434.79 sq.m.)</td>\n",
              "      <td>5</td>\n",
              "      <td>8</td>\n",
              "      <td>3+</td>\n",
              "      <td>...</td>\n",
              "      <td>NaN</td>\n",
              "      <td>4678.34</td>\n",
              "      <td>NaN</td>\n",
              "      <td>0</td>\n",
              "      <td>1</td>\n",
              "      <td>1</td>\n",
              "      <td>0</td>\n",
              "      <td>0</td>\n",
              "      <td>2</td>\n",
              "      <td>100</td>\n",
              "    </tr>\n",
              "    <tr>\n",
              "      <th>2201</th>\n",
              "      <td>house</td>\n",
              "      <td>sobha city</td>\n",
              "      <td>sector 108</td>\n",
              "      <td>NaN</td>\n",
              "      <td>NaN</td>\n",
              "      <td>NaN</td>\n",
              "      <td>Built Up area: 7331 (681.07 sq.m.)</td>\n",
              "      <td>5</td>\n",
              "      <td>1</td>\n",
              "      <td>0</td>\n",
              "      <td>...</td>\n",
              "      <td>NaN</td>\n",
              "      <td>7331.00</td>\n",
              "      <td>NaN</td>\n",
              "      <td>0</td>\n",
              "      <td>0</td>\n",
              "      <td>0</td>\n",
              "      <td>0</td>\n",
              "      <td>0</td>\n",
              "      <td>1</td>\n",
              "      <td>59</td>\n",
              "    </tr>\n",
              "    <tr>\n",
              "      <th>2943</th>\n",
              "      <td>house</td>\n",
              "      <td>independent</td>\n",
              "      <td>sector 11</td>\n",
              "      <td>NaN</td>\n",
              "      <td>NaN</td>\n",
              "      <td>NaN</td>\n",
              "      <td>Plot area 2700(250.84 sq.m.)</td>\n",
              "      <td>6</td>\n",
              "      <td>4</td>\n",
              "      <td>2</td>\n",
              "      <td>...</td>\n",
              "      <td>NaN</td>\n",
              "      <td>2699.04</td>\n",
              "      <td>NaN</td>\n",
              "      <td>0</td>\n",
              "      <td>0</td>\n",
              "      <td>0</td>\n",
              "      <td>0</td>\n",
              "      <td>0</td>\n",
              "      <td>1</td>\n",
              "      <td>15</td>\n",
              "    </tr>\n",
              "    <tr>\n",
              "      <th>3038</th>\n",
              "      <td>house</td>\n",
              "      <td>independent</td>\n",
              "      <td>sector 28</td>\n",
              "      <td>NaN</td>\n",
              "      <td>NaN</td>\n",
              "      <td>NaN</td>\n",
              "      <td>Plot area 270(225.75 sq.m.)</td>\n",
              "      <td>16</td>\n",
              "      <td>16</td>\n",
              "      <td>3+</td>\n",
              "      <td>...</td>\n",
              "      <td>NaN</td>\n",
              "      <td>2429.07</td>\n",
              "      <td>NaN</td>\n",
              "      <td>1</td>\n",
              "      <td>1</td>\n",
              "      <td>0</td>\n",
              "      <td>1</td>\n",
              "      <td>1</td>\n",
              "      <td>1</td>\n",
              "      <td>41</td>\n",
              "    </tr>\n",
              "    <tr>\n",
              "      <th>3464</th>\n",
              "      <td>house</td>\n",
              "      <td>emaar mgf marbella</td>\n",
              "      <td>sector 66</td>\n",
              "      <td>NaN</td>\n",
              "      <td>NaN</td>\n",
              "      <td>NaN</td>\n",
              "      <td>Plot area 500(418.06 sq.m.)</td>\n",
              "      <td>5</td>\n",
              "      <td>7</td>\n",
              "      <td>3+</td>\n",
              "      <td>...</td>\n",
              "      <td>NaN</td>\n",
              "      <td>4498.33</td>\n",
              "      <td>NaN</td>\n",
              "      <td>1</td>\n",
              "      <td>1</td>\n",
              "      <td>1</td>\n",
              "      <td>1</td>\n",
              "      <td>0</td>\n",
              "      <td>2</td>\n",
              "      <td>70</td>\n",
              "    </tr>\n",
              "    <tr>\n",
              "      <th>3479</th>\n",
              "      <td>house</td>\n",
              "      <td>independent</td>\n",
              "      <td>sector 25</td>\n",
              "      <td>NaN</td>\n",
              "      <td>NaN</td>\n",
              "      <td>NaN</td>\n",
              "      <td>Plot area 250(209.03 sq.m.)Built Up area: 260 ...</td>\n",
              "      <td>12</td>\n",
              "      <td>12</td>\n",
              "      <td>3+</td>\n",
              "      <td>...</td>\n",
              "      <td>NaN</td>\n",
              "      <td>260.00</td>\n",
              "      <td>245.00</td>\n",
              "      <td>1</td>\n",
              "      <td>1</td>\n",
              "      <td>0</td>\n",
              "      <td>1</td>\n",
              "      <td>1</td>\n",
              "      <td>0</td>\n",
              "      <td>144</td>\n",
              "    </tr>\n",
              "    <tr>\n",
              "      <th>3482</th>\n",
              "      <td>house</td>\n",
              "      <td>unitech espace</td>\n",
              "      <td>sector 50</td>\n",
              "      <td>NaN</td>\n",
              "      <td>NaN</td>\n",
              "      <td>NaN</td>\n",
              "      <td>Plot area 360(301.01 sq.m.)</td>\n",
              "      <td>5</td>\n",
              "      <td>5</td>\n",
              "      <td>3+</td>\n",
              "      <td>...</td>\n",
              "      <td>NaN</td>\n",
              "      <td>3238.87</td>\n",
              "      <td>NaN</td>\n",
              "      <td>1</td>\n",
              "      <td>0</td>\n",
              "      <td>0</td>\n",
              "      <td>0</td>\n",
              "      <td>0</td>\n",
              "      <td>1</td>\n",
              "      <td>36</td>\n",
              "    </tr>\n",
              "  </tbody>\n",
              "</table>\n",
              "<p>17 rows × 23 columns</p>\n",
              "</div>"
            ],
            "text/plain": [
              "     property_type                            society      sector  price  \\\n",
              "38           house                 emaar mgf marbella   sector 66    NaN   \n",
              "304          house                     not applicable    sector 4    NaN   \n",
              "401          house                        independent   sector 11    NaN   \n",
              "596          house                 emaar mgf marbella   sector 66    NaN   \n",
              "813          house             unitech greenwood city   sector 45    NaN   \n",
              "922          house                 emaar mgf marbella   sector 66    NaN   \n",
              "1419         house           unitech uniworld resorts   sector 33    NaN   \n",
              "1481         house                        independent   sector 25    NaN   \n",
              "1974          flat  signature global orchard avenue 2   sector 93    NaN   \n",
              "2013         house              dlf city plot phase 3   sector 24    NaN   \n",
              "2139         house           unitech uniworld resorts   sector 33    NaN   \n",
              "2201         house                         sobha city  sector 108    NaN   \n",
              "2943         house                        independent   sector 11    NaN   \n",
              "3038         house                        independent   sector 28    NaN   \n",
              "3464         house                 emaar mgf marbella   sector 66    NaN   \n",
              "3479         house                        independent   sector 25    NaN   \n",
              "3482         house                     unitech espace   sector 50    NaN   \n",
              "\n",
              "      price_per_sqft  area                                       areaWithType  \\\n",
              "38               NaN   NaN                        Plot area 350(292.64 sq.m.)   \n",
              "304              NaN   NaN                        Plot area 670(560.21 sq.m.)   \n",
              "401              NaN   NaN                         Plot area 1000(92.9 sq.m.)   \n",
              "596              NaN   NaN  Plot area 350(292.64 sq.m.)Built Up area: 6500...   \n",
              "813              NaN   NaN                        Plot area 240(200.67 sq.m.)   \n",
              "922              NaN   NaN                        Plot area 350(292.64 sq.m.)   \n",
              "1419             NaN   NaN                        Plot area 502(419.74 sq.m.)   \n",
              "1481             NaN   NaN  Plot area 502(419.74 sq.m.)Built Up area: 450 ...   \n",
              "1974             NaN   NaN                  Carpet area: 577.11 (53.62 sq.m.)   \n",
              "2013             NaN   NaN                 Built Up area: 5000 (464.52 sq.m.)   \n",
              "2139             NaN   NaN                        Plot area 520(434.79 sq.m.)   \n",
              "2201             NaN   NaN                 Built Up area: 7331 (681.07 sq.m.)   \n",
              "2943             NaN   NaN                       Plot area 2700(250.84 sq.m.)   \n",
              "3038             NaN   NaN                        Plot area 270(225.75 sq.m.)   \n",
              "3464             NaN   NaN                        Plot area 500(418.06 sq.m.)   \n",
              "3479             NaN   NaN  Plot area 250(209.03 sq.m.)Built Up area: 260 ...   \n",
              "3482             NaN   NaN                        Plot area 360(301.01 sq.m.)   \n",
              "\n",
              "      bedRoom  bathroom balcony  ...  super_built_up_area built_up_area  \\\n",
              "38          5         5       3  ...                  NaN       3148.81   \n",
              "304         5         3       2  ...                  NaN       6027.86   \n",
              "401         2         2       1  ...                  NaN        999.60   \n",
              "596         4         4      3+  ...                  NaN       6500.00   \n",
              "813         9         9      3+  ...                  NaN       2159.21   \n",
              "922         5         5      3+  ...                  NaN       3148.81   \n",
              "1419        5         7      3+  ...                  NaN       4516.40   \n",
              "1481        5         5      3+  ...                  NaN        450.00   \n",
              "1974        2         2       3  ...                  NaN           NaN   \n",
              "2013        5         5      3+  ...                  NaN       5000.00   \n",
              "2139        5         8      3+  ...                  NaN       4678.34   \n",
              "2201        5         1       0  ...                  NaN       7331.00   \n",
              "2943        6         4       2  ...                  NaN       2699.04   \n",
              "3038       16        16      3+  ...                  NaN       2429.07   \n",
              "3464        5         7      3+  ...                  NaN       4498.33   \n",
              "3479       12        12      3+  ...                  NaN        260.00   \n",
              "3482        5         5      3+  ...                  NaN       3238.87   \n",
              "\n",
              "     carpet_area  study room  servant room  store room  pooja room  others  \\\n",
              "38           NaN           0             0           0           0       0   \n",
              "304          NaN           0             0           0           0       0   \n",
              "401          NaN           0             0           0           0       0   \n",
              "596          NaN           1             1           1           1       0   \n",
              "813          NaN           1             1           0           0       0   \n",
              "922          NaN           1             1           0           1       0   \n",
              "1419         NaN           0             1           0           0       0   \n",
              "1481      400.00           1             1           0           1       1   \n",
              "1974      577.11           0             0           0           0       0   \n",
              "2013         NaN           0             0           0           0       0   \n",
              "2139         NaN           0             1           1           0       0   \n",
              "2201         NaN           0             0           0           0       0   \n",
              "2943         NaN           0             0           0           0       0   \n",
              "3038         NaN           1             1           0           1       1   \n",
              "3464         NaN           1             1           1           1       0   \n",
              "3479      245.00           1             1           0           1       1   \n",
              "3482         NaN           1             0           0           0       0   \n",
              "\n",
              "      furnishing_type  luxury_score  \n",
              "38                  2            22  \n",
              "304                 1             0  \n",
              "401                 1             0  \n",
              "596                 1           136  \n",
              "813                 0           110  \n",
              "922                 2           160  \n",
              "1419                1            87  \n",
              "1481                2            49  \n",
              "1974                1           104  \n",
              "2013                1             0  \n",
              "2139                2           100  \n",
              "2201                1            59  \n",
              "2943                1            15  \n",
              "3038                1            41  \n",
              "3464                2            70  \n",
              "3479                0           144  \n",
              "3482                1            36  \n",
              "\n",
              "[17 rows x 23 columns]"
            ]
          },
          "execution_count": 52,
          "metadata": {},
          "output_type": "execute_result"
        }
      ],
      "source": [
        "df[df['price'].isnull()]"
      ]
    },
    {
      "cell_type": "code",
      "execution_count": 33,
      "metadata": {
        "colab": {
          "base_uri": "https://localhost:8080/",
          "height": 466
        },
        "id": "P4cdSEz3ORhg",
        "outputId": "690ce264-598f-4b17-fd13-69a5488e4cd6"
      },
      "outputs": [
        {
          "data": {
            "text/plain": [
              "<Axes: xlabel='price', ylabel='Count'>"
            ]
          },
          "execution_count": 33,
          "metadata": {},
          "output_type": "execute_result"
        },
        {
          "data": {
            "image/png": "[encoded data removed]",
            "text/plain": [
              "<Figure size 640x480 with 1 Axes>"
            ]
          },
          "metadata": {},
          "output_type": "display_data"
        }
      ],
      "source": [
        "sns.histplot(df['price'], kde=True, bins=30)\n",
        "\n",
        "#right skewed graph"
      ]
    },
    {
      "cell_type": "code",
      "execution_count": 37,
      "metadata": {
        "colab": {
          "base_uri": "https://localhost:8080/",
          "height": 449
        },
        "id": "d7QbWpIZOsF7",
        "outputId": "d65d72e9-1044-40ef-f5a6-b0ba911495c0"
      },
      "outputs": [
        {
          "data": {
            "image/png": "[encoded data removed]",
            "text/plain": [
              "<Figure size 640x480 with 1 Axes>"
            ]
          },
          "metadata": {},
          "output_type": "display_data"
        }
      ],
      "source": [
        "sns.boxplot(x=df['price'], color='lightgreen')\n",
        "plt.grid()"
      ]
    },
    {
      "cell_type": "markdown",
      "metadata": {
        "id": "WiYLBNZsPU4v"
      },
      "source": [
        "- Descriptive Statistics:\n",
        "  + Count: There are 3,660 non-missing price entries.\n",
        "  + Mean Price: The average price is approximately 2.53 crores.\n",
        "  + Median Price: The median (or 50th percentile) price is 1.52 crores.\n",
        "  + Standard Deviation: The prices have a standard deviation of 2.98, indicating variability in the prices.\n",
        "  + Range: Prices range from a minimum of 0.07 crores to a maximum of 31.5 crores.\n",
        "  + IQR: The interquartile range (difference between 75th and 25th percentile) is from 0.95 crores to 2.75 crores.\n",
        "\n",
        "\n",
        "- Visualizations:\n",
        "\n",
        "  + Distribution: The histogram indicates that most properties are priced in the lower range (below 5 crores), with a few properties going beyond 10 crores.\n",
        "  + Box Plot: The box plot showcases the spread of the data and potential outliers. Properties priced above approximately 10 crores might be considered outliers as they lie beyond the upper whisker of the box plot.\n",
        "- Missing Values: There are 17 missing values in the price column."
      ]
    },
    {
      "cell_type": "code",
      "execution_count": 61,
      "metadata": {
        "colab": {
          "base_uri": "https://localhost:8080/"
        },
        "id": "jfIZqFgFOnGP",
        "outputId": "acbc20d1-f783-4c5e-bec8-c5c2e9a3d687"
      },
      "outputs": [
        {
          "name": "stdout",
          "output_type": "stream",
          "text": [
            "Skewness: 3.2791704733134623\n",
            "Kurtosis: 14.933372629214258\n"
          ]
        }
      ],
      "source": [
        "#skewness and kurtosis\n",
        "\n",
        "skewness_price = df['price'].skew()\n",
        "kurtosis_price = df['price'].kurtosis()\n",
        "\n",
        "print(\"Skewness:\", skewness_price)\n",
        "print(\"Kurtosis:\", kurtosis_price)"
      ]
    },
    {
      "cell_type": "markdown",
      "metadata": {
        "id": "bTMcXTVaQj9w"
      },
      "source": [
        "Skewness: The price distribution has a skewness of approximately 3.28, indicating a positive skew. This means that the distribution tail is skewed to the right, which aligns with our observation from the histogram where most properties have prices on the lower end with a few high-priced properties.\n",
        "\n",
        "Kurtosis: The kurtosis value is approximately 14.93. A kurtosis value greater than 3 indicates a distribution with heavier tails and more outliers compared to a normal distribution."
      ]
    },
    {
      "cell_type": "code",
      "execution_count": 64,
      "metadata": {
        "colab": {
          "base_uri": "https://localhost:8080/"
        },
        "id": "sEwG0MTSQapx",
        "outputId": "69e6af5d-9501-4a4f-bd2c-4944d5a965ec"
      },
      "outputs": [
        {
          "name": "stdout",
          "output_type": "stream",
          "text": [
            "0.01     0.250\n",
            "0.05     0.370\n",
            "0.95     8.500\n",
            "0.99    15.264\n",
            "Name: price, dtype: float64\n"
          ]
        }
      ],
      "source": [
        "quantile_price = df['price'].quantile([0.01, 0.05, 0.95, 0.99])\n",
        "\n",
        "print(quantile_price)"
      ]
    },
    {
      "cell_type": "markdown",
      "metadata": {
        "id": "HcEo-QJ-RI7I"
      },
      "source": [
        "- Quantile Analysis:\n",
        "\n",
        "  + 1% Quantile: Only 1% of properties are priced below 0.25 crores.\n",
        "  + 5% Quantile: 5% of properties are priced below 0.37 crores.\n",
        "  + 95% Quantile: 95% of properties are priced below 8.5 crores.\n",
        "  + 99% Quantile: 99% of properties are priced below 15.26 crores, indicating that very few properties are priced above this value."
      ]
    },
    {
      "cell_type": "code",
      "execution_count": 67,
      "metadata": {
        "colab": {
          "base_uri": "https://localhost:8080/"
        },
        "id": "kV8yqM--ROik",
        "outputId": "403794c4-f69f-41be-9be1-34c735e81420"
      },
      "outputs": [
        {
          "name": "stdout",
          "output_type": "stream",
          "text": [
            "1.8\n"
          ]
        }
      ],
      "source": [
        " # Identify potential outliers using IQR method\n",
        "Q1 = df['price'].describe()['25%']\n",
        "Q3 = df['price'].describe()['75%']\n",
        "\n",
        "IQR = Q3 - Q1\n",
        "print(IQR)"
      ]
    },
    {
      "cell_type": "code",
      "execution_count": 68,
      "metadata": {
        "colab": {
          "base_uri": "https://localhost:8080/"
        },
        "id": "m7ROdW5PSB0Y",
        "outputId": "0fce9b36-bb58-414c-a592-351abe48975e"
      },
      "outputs": [
        {
          "name": "stdout",
          "output_type": "stream",
          "text": [
            "Upper Bound: 5.45\n",
            "Lower Bound: -1.7500000000000002\n"
          ]
        }
      ],
      "source": [
        "upper_bound = Q3 + 1.5 * IQR\n",
        "lower_bound = Q1 - 1.5 * IQR\n",
        "\n",
        "\n",
        "print(\"Upper Bound:\", upper_bound)\n",
        "print(\"Lower Bound:\", lower_bound)"
      ]
    },
    {
      "cell_type": "code",
      "execution_count": 69,
      "metadata": {
        "colab": {
          "base_uri": "https://localhost:8080/"
        },
        "id": "Ay04TOu4SNpI",
        "outputId": "12d727c6-fb88-4b76-f794-8cee894f9053"
      },
      "outputs": [
        {
          "data": {
            "text/plain": [
              "(425, 23)"
            ]
          },
          "execution_count": 69,
          "metadata": {},
          "output_type": "execute_result"
        }
      ],
      "source": [
        "outliers = df[((df['price']<lower_bound)  | (df['price']>upper_bound))]\n",
        "outliers.shape"
      ]
    },
    {
      "cell_type": "code",
      "execution_count": 70,
      "metadata": {
        "colab": {
          "base_uri": "https://localhost:8080/",
          "height": 335
        },
        "id": "odlwFA--SrER",
        "outputId": "7cf00d22-28da-41b0-efad-3e09fa6f39f4"
      },
      "outputs": [
        {
          "data": {
            "text/plain": [
              "count    425.000000\n",
              "mean       9.235624\n",
              "std        4.065259\n",
              "min        5.460000\n",
              "25%        6.460000\n",
              "50%        8.000000\n",
              "75%       10.750000\n",
              "max       31.500000\n",
              "Name: price, dtype: float64"
            ]
          },
          "execution_count": 70,
          "metadata": {},
          "output_type": "execute_result"
        }
      ],
      "source": [
        "outliers['price'].describe()"
      ]
    },
    {
      "cell_type": "markdown",
      "metadata": {
        "id": "yOJzcRNKSwmB"
      },
      "source": [
        "Outliers Analysis (using IQR method):\n",
        "\n",
        "- Based on the IQR method, there are 425 properties considered as outliers.\n",
        "- These outliers have an average price of approximately 9.24 crores.\n",
        "- The range for these outliers is from 5.46 crores to 31.5 crores."
      ]
    },
    {
      "cell_type": "code",
      "execution_count": 71,
      "metadata": {
        "colab": {
          "base_uri": "https://localhost:8080/",
          "height": 492
        },
        "id": "XHN4c-hOSyzo",
        "outputId": "e45c90b6-e426-41c7-ef0d-0c6a9a060ec4"
      },
      "outputs": [
        {
          "data": {
            "text/plain": [
              "<Axes: xlabel='price'>"
            ]
          },
          "execution_count": 71,
          "metadata": {},
          "output_type": "execute_result"
        },
        {
          "data": {
            "image/png": "[encoded data removed]",
            "text/plain": [
              "<Figure size 640x480 with 1 Axes>"
            ]
          },
          "metadata": {},
          "output_type": "display_data"
        }
      ],
      "source": [
        "#price binning\n",
        "\n",
        "bins = [0, 1, 2, 3, 10, 20, 50]\n",
        "bin_labels = ['0-1', '1-2', '2-3', '3-10', '10-20', '20-50']\n",
        "\n",
        "pd.cut(df['price'], bins=bins, labels=bin_labels, right=False).value_counts().sort_index().plot(kind='bar')"
      ]
    },
    {
      "cell_type": "markdown",
      "metadata": {
        "id": "d2POLU8AUDXo"
      },
      "source": [
        "- The majority of properties are priced in the \"1-2 crores\" and \"2-3 crores\" ranges.\n",
        "- There's a significant drop in the number of properties priced above \"5 crores.\"\n"
      ]
    },
    {
      "cell_type": "code",
      "execution_count": 72,
      "metadata": {
        "colab": {
          "base_uri": "https://localhost:8080/",
          "height": 430
        },
        "id": "i_s4T_eZT9-F",
        "outputId": "b3b30f1c-744e-4bfd-98ce-aad8ccd7200b"
      },
      "outputs": [
        {
          "data": {
            "image/png": "[encoded data removed]",
            "text/plain": [
              "<Figure size 640x480 with 1 Axes>"
            ]
          },
          "metadata": {},
          "output_type": "display_data"
        }
      ],
      "source": [
        "#ecdf plot\n",
        "\n",
        "ecdf = df['price'].value_counts().sort_index().cumsum() / len(df['price'])\n",
        "plt.plot(ecdf.index, ecdf, marker='.', linestyle='none')\n",
        "plt.grid()"
      ]
    },
    {
      "cell_type": "code",
      "execution_count": 74,
      "metadata": {
        "colab": {
          "base_uri": "https://localhost:8080/",
          "height": 489
        },
        "id": "paXQedRIUpcA",
        "outputId": "10f1313f-6635-439e-9d2e-454a09caddff"
      },
      "outputs": [
        {
          "data": {
            "text/html": [
              "<div>\n",
              "<style scoped>\n",
              "    .dataframe tbody tr th:only-of-type {\n",
              "        vertical-align: middle;\n",
              "    }\n",
              "\n",
              "    .dataframe tbody tr th {\n",
              "        vertical-align: top;\n",
              "    }\n",
              "\n",
              "    .dataframe thead th {\n",
              "        text-align: right;\n",
              "    }\n",
              "</style>\n",
              "<table border=\"1\" class=\"dataframe\">\n",
              "  <thead>\n",
              "    <tr style=\"text-align: right;\">\n",
              "      <th></th>\n",
              "      <th>count</th>\n",
              "    </tr>\n",
              "    <tr>\n",
              "      <th>price</th>\n",
              "      <th></th>\n",
              "    </tr>\n",
              "  </thead>\n",
              "  <tbody>\n",
              "    <tr>\n",
              "      <th>0.07</th>\n",
              "      <td>0.000272</td>\n",
              "    </tr>\n",
              "    <tr>\n",
              "      <th>0.16</th>\n",
              "      <td>0.000544</td>\n",
              "    </tr>\n",
              "    <tr>\n",
              "      <th>0.17</th>\n",
              "      <td>0.000816</td>\n",
              "    </tr>\n",
              "    <tr>\n",
              "      <th>0.19</th>\n",
              "      <td>0.001088</td>\n",
              "    </tr>\n",
              "    <tr>\n",
              "      <th>0.20</th>\n",
              "      <td>0.003264</td>\n",
              "    </tr>\n",
              "    <tr>\n",
              "      <th>...</th>\n",
              "      <td>...</td>\n",
              "    </tr>\n",
              "    <tr>\n",
              "      <th>24.00</th>\n",
              "      <td>0.994017</td>\n",
              "    </tr>\n",
              "    <tr>\n",
              "      <th>25.00</th>\n",
              "      <td>0.994289</td>\n",
              "    </tr>\n",
              "    <tr>\n",
              "      <th>26.00</th>\n",
              "      <td>0.994833</td>\n",
              "    </tr>\n",
              "    <tr>\n",
              "      <th>27.50</th>\n",
              "      <td>0.995105</td>\n",
              "    </tr>\n",
              "    <tr>\n",
              "      <th>31.50</th>\n",
              "      <td>0.995377</td>\n",
              "    </tr>\n",
              "  </tbody>\n",
              "</table>\n",
              "<p>473 rows × 1 columns</p>\n",
              "</div>"
            ],
            "text/plain": [
              "          count\n",
              "price          \n",
              "0.07   0.000272\n",
              "0.16   0.000544\n",
              "0.17   0.000816\n",
              "0.19   0.001088\n",
              "0.20   0.003264\n",
              "...         ...\n",
              "24.00  0.994017\n",
              "25.00  0.994289\n",
              "26.00  0.994833\n",
              "27.50  0.995105\n",
              "31.50  0.995377\n",
              "\n",
              "[473 rows x 1 columns]"
            ]
          },
          "execution_count": 74,
          "metadata": {},
          "output_type": "execute_result"
        }
      ],
      "source": [
        "pd.DataFrame(df['price'].value_counts().sort_index().cumsum() / len(df['price']))"
      ]
    },
    {
      "cell_type": "code",
      "execution_count": 75,
      "metadata": {
        "colab": {
          "base_uri": "https://localhost:8080/"
        },
        "id": "tQlfzx7cVWLB",
        "outputId": "07a66440-2934-4ddd-db42-be9f7336a974"
      },
      "outputs": [
        {
          "data": {
            "text/plain": [
              "3677"
            ]
          },
          "execution_count": 75,
          "metadata": {},
          "output_type": "execute_result"
        }
      ],
      "source": [
        "len(df['price'])"
      ]
    },
    {
      "cell_type": "code",
      "execution_count": 76,
      "metadata": {
        "colab": {
          "base_uri": "https://localhost:8080/",
          "height": 522
        },
        "id": "W_POXdHnVrJg",
        "outputId": "8c179a05-8584-4970-9be4-b9d305425f31"
      },
      "outputs": [
        {
          "data": {
            "image/png": "[encoded data removed]",
            "text/plain": [
              "<Figure size 1500x600 with 2 Axes>"
            ]
          },
          "metadata": {},
          "output_type": "display_data"
        }
      ],
      "source": [
        "plt.figure(figsize=(15,6))\n",
        "# Distribution plot without log transformation\n",
        "plt.subplot(1, 2, 1)\n",
        "sns.histplot(df['price'], kde=True, bins=50, color='skyblue')\n",
        "plt.title('Distribution of Prices (Original)')\n",
        "plt.xlabel('Price (in Crores)')\n",
        "plt.ylabel('Frequency')\n",
        "\n",
        "# Distribution plot with log transformation\n",
        "plt.subplot(1, 2, 2)\n",
        "sns.histplot(np.log1p(df['price']), kde=True, bins=50, color='lightgreen')\n",
        "plt.title('Distribution of Prices (Log Transformed)')\n",
        "plt.xlabel('Log(Price)')\n",
        "plt.ylabel('Frequency')\n",
        "\n",
        "plt.tight_layout()\n",
        "plt.show()"
      ]
    },
    {
      "cell_type": "markdown",
      "metadata": {
        "id": "VExP7HLzV-Eu"
      },
      "source": [
        "\n",
        "np.log1p(x): This function computes the natural logarithm of 1+x. It's designed to provide more accurate results for values of x that are very close to zero.\n",
        "\n",
        "Using np.log1p helps in transforming the price column while ensuring that any value (including zero, if present) is handled appropriately. When we need to reverse the transformation, we can use np.expm1 which computes e^x-1"
      ]
    },
    {
      "cell_type": "code",
      "execution_count": 77,
      "metadata": {
        "colab": {
          "base_uri": "https://localhost:8080/"
        },
        "id": "ovBP8jnhV4V5",
        "outputId": "8c4d5af3-d123-40fb-f52a-984a2e6350ae"
      },
      "outputs": [
        {
          "name": "stdout",
          "output_type": "stream",
          "text": [
            "1.0740709565255315 0.9646692415449296\n"
          ]
        }
      ],
      "source": [
        "skewness = np.log1p(df['price']).skew()\n",
        "kurtosis = np.log1p(df['price']).kurt()\n",
        "print(skewness,kurtosis)"
      ]
    },
    {
      "cell_type": "code",
      "execution_count": null,
      "metadata": {
        "id": "EnMe7Ng0W3hQ"
      },
      "outputs": [],
      "source": []
    },
    {
      "cell_type": "code",
      "execution_count": 78,
      "metadata": {
        "colab": {
          "base_uri": "https://localhost:8080/",
          "height": 522
        },
        "id": "aRysSccUWtfx",
        "outputId": "901c1141-c960-4789-cbed-578dd1076732"
      },
      "outputs": [
        {
          "data": {
            "image/png": "[encoded data removed]",
            "text/plain": [
              "<Figure size 1500x600 with 2 Axes>"
            ]
          },
          "metadata": {},
          "output_type": "display_data"
        }
      ],
      "source": [
        "plt.figure(figsize=(15, 6))\n",
        "\n",
        "# Distribution plot without log transformation\n",
        "plt.subplot(1, 2, 1)\n",
        "sns.boxplot(df['price'], color='skyblue')\n",
        "plt.title('Distribution of Prices (Original)')\n",
        "plt.xlabel('Price (in Crores)')\n",
        "plt.ylabel('Frequency')\n",
        "\n",
        "# Distribution plot with log transformation\n",
        "plt.subplot(1, 2, 2)\n",
        "sns.boxplot(np.log1p(df['price']), color='lightgreen')\n",
        "plt.title('Distribution of Prices (Log Transformed)')\n",
        "plt.xlabel('Log(Price)')\n",
        "plt.ylabel('Frequency')\n",
        "\n",
        "plt.tight_layout()\n",
        "plt.show()"
      ]
    },
    {
      "cell_type": "markdown",
      "metadata": {
        "id": "-w-e6lSDWU2n"
      },
      "source": [
        "# price_per_sqft"
      ]
    },
    {
      "cell_type": "code",
      "execution_count": 79,
      "metadata": {
        "colab": {
          "base_uri": "https://localhost:8080/",
          "height": 335
        },
        "id": "NRLcLzLVXDXa",
        "outputId": "3868f5f7-c567-43ce-fc44-41a54cea0121"
      },
      "outputs": [
        {
          "data": {
            "text/plain": [
              "count      3660.000000\n",
              "mean      13892.668306\n",
              "std       23210.067190\n",
              "min           4.000000\n",
              "25%        6817.250000\n",
              "50%        9020.000000\n",
              "75%       13880.500000\n",
              "max      600000.000000\n",
              "Name: price_per_sqft, dtype: float64"
            ]
          },
          "execution_count": 79,
          "metadata": {},
          "output_type": "execute_result"
        }
      ],
      "source": [
        "df['price_per_sqft'].describe()"
      ]
    },
    {
      "cell_type": "code",
      "execution_count": 80,
      "metadata": {
        "colab": {
          "base_uri": "https://localhost:8080/"
        },
        "id": "j0Al99FjYJgs",
        "outputId": "b535b90c-5e4f-4e43-a9e3-4cf3574a03c4"
      },
      "outputs": [
        {
          "data": {
            "text/plain": [
              "np.int64(17)"
            ]
          },
          "execution_count": 80,
          "metadata": {},
          "output_type": "execute_result"
        }
      ],
      "source": [
        "df['price_per_sqft'].isnull().sum()"
      ]
    },
    {
      "cell_type": "code",
      "execution_count": 81,
      "metadata": {
        "colab": {
          "base_uri": "https://localhost:8080/",
          "height": 467
        },
        "id": "pX4H2fcvYU4e",
        "outputId": "ddc10667-46fa-4751-df64-0d219f8d808a"
      },
      "outputs": [
        {
          "data": {
            "text/plain": [
              "<Axes: xlabel='price_per_sqft', ylabel='Count'>"
            ]
          },
          "execution_count": 81,
          "metadata": {},
          "output_type": "execute_result"
        },
        {
          "data": {
            "image/png": "[encoded data removed]",
            "text/plain": [
              "<Figure size 640x480 with 1 Axes>"
            ]
          },
          "metadata": {},
          "output_type": "display_data"
        }
      ],
      "source": [
        "sns.histplot(df['price_per_sqft'], bins=50, color='skyblue', kde=True)"
      ]
    },
    {
      "cell_type": "markdown",
      "metadata": {
        "id": "AZuHIXHDYTSs"
      },
      "source": [
        "\n",
        "Most properties have a price_per_sqft ranging between approximately ₹0 and ₹40,000. There is a significant concentration in the lower range, with a few properties having exceptionally high price_per_sqft."
      ]
    },
    {
      "cell_type": "code",
      "execution_count": 82,
      "metadata": {
        "colab": {
          "base_uri": "https://localhost:8080/",
          "height": 467
        },
        "id": "jHaIafSHYxDb",
        "outputId": "6c613fa6-1c70-4bd0-db1e-d1fc1115079c"
      },
      "outputs": [
        {
          "data": {
            "text/plain": [
              "<Axes: xlabel='price_per_sqft'>"
            ]
          },
          "execution_count": 82,
          "metadata": {},
          "output_type": "execute_result"
        },
        {
          "data": {
            "image/png": "[encoded data removed]",
            "text/plain": [
              "<Figure size 640x480 with 1 Axes>"
            ]
          },
          "metadata": {},
          "output_type": "display_data"
        }
      ],
      "source": [
        "sns.boxplot(x=df['price_per_sqft'], color='lightgreen')"
      ]
    },
    {
      "cell_type": "markdown",
      "metadata": {
        "id": "l3SknBaVY9N8"
      },
      "source": [
        "\n",
        "The box plot clearly shows several outliers, especially on the higher side. The interquartile range (IQR) is relatively compact, but there are many data points beyond the \"whiskers\" of the box plot, indicating potential outlier\n",
        "\n",
        "\n",
        "- Observations\n",
        " + Potential Outliers\n",
        " + Right Skewed\n",
        " + 17 missing values"
      ]
    },
    {
      "cell_type": "markdown",
      "metadata": {
        "id": "QpQJs0DncvF0"
      },
      "source": [
        "# bedroom"
      ]
    },
    {
      "cell_type": "code",
      "execution_count": 83,
      "metadata": {
        "colab": {
          "base_uri": "https://localhost:8080/"
        },
        "id": "hsLPhTieYx5D",
        "outputId": "02aca5fb-e4fa-468f-9d1e-31333479b29d"
      },
      "outputs": [
        {
          "data": {
            "text/plain": [
              "np.int64(0)"
            ]
          },
          "execution_count": 83,
          "metadata": {},
          "output_type": "execute_result"
        }
      ],
      "source": [
        "df['bedRoom'].isnull().sum()"
      ]
    },
    {
      "cell_type": "code",
      "execution_count": 84,
      "metadata": {
        "colab": {
          "base_uri": "https://localhost:8080/",
          "height": 470
        },
        "id": "baNdua4JYx_N",
        "outputId": "afd947ca-f9f5-4026-a346-a250f751efd3"
      },
      "outputs": [
        {
          "data": {
            "text/plain": [
              "<Axes: xlabel='bedRoom'>"
            ]
          },
          "execution_count": 84,
          "metadata": {},
          "output_type": "execute_result"
        },
        {
          "data": {
            "image/png": "[encoded data removed]",
            "text/plain": [
              "<Figure size 640x480 with 1 Axes>"
            ]
          },
          "metadata": {},
          "output_type": "display_data"
        }
      ],
      "source": [
        "df['bedRoom'].value_counts().sort_index().plot(kind='bar')"
      ]
    },
    {
      "cell_type": "code",
      "execution_count": 85,
      "metadata": {
        "colab": {
          "base_uri": "https://localhost:8080/",
          "height": 423
        },
        "id": "AqjMG6hkYyEz",
        "outputId": "8e0a3838-98e5-4be7-dffd-64a855bc17b5"
      },
      "outputs": [
        {
          "data": {
            "text/plain": [
              "<Axes: ylabel='proportion'>"
            ]
          },
          "execution_count": 85,
          "metadata": {},
          "output_type": "execute_result"
        },
        {
          "data": {
            "image/png": "[encoded data removed]",
            "text/plain": [
              "<Figure size 640x480 with 1 Axes>"
            ]
          },
          "metadata": {},
          "output_type": "display_data"
        }
      ],
      "source": [
        "df['bedRoom'].value_counts(normalize=True).head().plot(kind='pie',autopct='%0.2f%%')"
      ]
    },
    {
      "cell_type": "markdown",
      "metadata": {
        "id": "aS8X2sosXBbv"
      },
      "source": [
        "# bathroom"
      ]
    },
    {
      "cell_type": "markdown",
      "metadata": {
        "id": "H69H0qVzYwuE"
      },
      "source": []
    },
    {
      "cell_type": "code",
      "execution_count": 86,
      "metadata": {
        "colab": {
          "base_uri": "https://localhost:8080/"
        },
        "id": "GcsA5wXiddTH",
        "outputId": "f428ea7d-6a86-47c2-b0de-5ba6c88c4e83"
      },
      "outputs": [
        {
          "data": {
            "text/plain": [
              "np.int64(0)"
            ]
          },
          "execution_count": 86,
          "metadata": {},
          "output_type": "execute_result"
        }
      ],
      "source": [
        "df['bathroom'].isnull().sum()"
      ]
    },
    {
      "cell_type": "code",
      "execution_count": 87,
      "metadata": {
        "colab": {
          "base_uri": "https://localhost:8080/",
          "height": 470
        },
        "id": "78GtoWq9ddY-",
        "outputId": "e058c7f1-2b45-4fed-f668-ea25c322203f"
      },
      "outputs": [
        {
          "data": {
            "text/plain": [
              "<Axes: xlabel='bathroom'>"
            ]
          },
          "execution_count": 87,
          "metadata": {},
          "output_type": "execute_result"
        },
        {
          "data": {
            "image/png": "[encoded data removed]",
            "text/plain": [
              "<Figure size 640x480 with 1 Axes>"
            ]
          },
          "metadata": {},
          "output_type": "display_data"
        }
      ],
      "source": [
        "df['bathroom'].value_counts().sort_index().plot(kind='bar')"
      ]
    },
    {
      "cell_type": "code",
      "execution_count": 88,
      "metadata": {
        "colab": {
          "base_uri": "https://localhost:8080/",
          "height": 423
        },
        "id": "Vq1BgW8Bddbu",
        "outputId": "31fdcc03-1c7b-4f92-a33f-d79342892a5f"
      },
      "outputs": [
        {
          "data": {
            "text/plain": [
              "<Axes: ylabel='proportion'>"
            ]
          },
          "execution_count": 88,
          "metadata": {},
          "output_type": "execute_result"
        },
        {
          "data": {
            "image/png": "[encoded data removed]",
            "text/plain": [
              "<Figure size 640x480 with 1 Axes>"
            ]
          },
          "metadata": {},
          "output_type": "display_data"
        }
      ],
      "source": [
        "df['bathroom'].value_counts(normalize=True).head().plot(kind='pie',autopct='%0.2f%%')"
      ]
    },
    {
      "cell_type": "code",
      "execution_count": 89,
      "metadata": {
        "colab": {
          "base_uri": "https://localhost:8080/",
          "height": 366
        },
        "id": "AMeftT12dddw",
        "outputId": "52399331-6e2e-4465-952c-698905e0b111"
      },
      "outputs": [
        {
          "data": {
            "text/html": [
              "<div>\n",
              "<style scoped>\n",
              "    .dataframe tbody tr th:only-of-type {\n",
              "        vertical-align: middle;\n",
              "    }\n",
              "\n",
              "    .dataframe tbody tr th {\n",
              "        vertical-align: top;\n",
              "    }\n",
              "\n",
              "    .dataframe thead th {\n",
              "        text-align: right;\n",
              "    }\n",
              "</style>\n",
              "<table border=\"1\" class=\"dataframe\">\n",
              "  <thead>\n",
              "    <tr style=\"text-align: right;\">\n",
              "      <th></th>\n",
              "      <th>property_type</th>\n",
              "      <th>society</th>\n",
              "      <th>sector</th>\n",
              "      <th>price</th>\n",
              "      <th>price_per_sqft</th>\n",
              "      <th>area</th>\n",
              "      <th>areaWithType</th>\n",
              "      <th>bedRoom</th>\n",
              "      <th>bathroom</th>\n",
              "      <th>balcony</th>\n",
              "      <th>...</th>\n",
              "      <th>super_built_up_area</th>\n",
              "      <th>built_up_area</th>\n",
              "      <th>carpet_area</th>\n",
              "      <th>study room</th>\n",
              "      <th>servant room</th>\n",
              "      <th>store room</th>\n",
              "      <th>pooja room</th>\n",
              "      <th>others</th>\n",
              "      <th>furnishing_type</th>\n",
              "      <th>luxury_score</th>\n",
              "    </tr>\n",
              "  </thead>\n",
              "  <tbody>\n",
              "    <tr>\n",
              "      <th>1492</th>\n",
              "      <td>house</td>\n",
              "      <td>independent</td>\n",
              "      <td>sector 105</td>\n",
              "      <td>0.37</td>\n",
              "      <td>8222.0</td>\n",
              "      <td>450.0</td>\n",
              "      <td>Plot area 450(41.81 sq.m.)</td>\n",
              "      <td>2</td>\n",
              "      <td>2</td>\n",
              "      <td>1</td>\n",
              "      <td>...</td>\n",
              "      <td>NaN</td>\n",
              "      <td>449.88</td>\n",
              "      <td>NaN</td>\n",
              "      <td>0</td>\n",
              "      <td>0</td>\n",
              "      <td>0</td>\n",
              "      <td>0</td>\n",
              "      <td>1</td>\n",
              "      <td>1</td>\n",
              "      <td>0</td>\n",
              "    </tr>\n",
              "    <tr>\n",
              "      <th>535</th>\n",
              "      <td>flat</td>\n",
              "      <td>bestech park view grand spa</td>\n",
              "      <td>sector 81</td>\n",
              "      <td>2.35</td>\n",
              "      <td>8834.0</td>\n",
              "      <td>2660.0</td>\n",
              "      <td>Super Built up area 2660(247.12 sq.m.)Carpet a...</td>\n",
              "      <td>3</td>\n",
              "      <td>4</td>\n",
              "      <td>3+</td>\n",
              "      <td>...</td>\n",
              "      <td>2660.0</td>\n",
              "      <td>NaN</td>\n",
              "      <td>2356.00</td>\n",
              "      <td>0</td>\n",
              "      <td>1</td>\n",
              "      <td>0</td>\n",
              "      <td>0</td>\n",
              "      <td>0</td>\n",
              "      <td>2</td>\n",
              "      <td>101</td>\n",
              "    </tr>\n",
              "    <tr>\n",
              "      <th>2094</th>\n",
              "      <td>flat</td>\n",
              "      <td>gls arawali homes</td>\n",
              "      <td>sohna road</td>\n",
              "      <td>0.30</td>\n",
              "      <td>6243.0</td>\n",
              "      <td>481.0</td>\n",
              "      <td>Super Built up area 567(52.68 sq.m.)Carpet are...</td>\n",
              "      <td>2</td>\n",
              "      <td>2</td>\n",
              "      <td>2</td>\n",
              "      <td>...</td>\n",
              "      <td>567.0</td>\n",
              "      <td>NaN</td>\n",
              "      <td>480.53</td>\n",
              "      <td>0</td>\n",
              "      <td>0</td>\n",
              "      <td>0</td>\n",
              "      <td>0</td>\n",
              "      <td>0</td>\n",
              "      <td>0</td>\n",
              "      <td>120</td>\n",
              "    </tr>\n",
              "  </tbody>\n",
              "</table>\n",
              "<p>3 rows × 23 columns</p>\n",
              "</div>"
            ],
            "text/plain": [
              "     property_type                      society      sector  price  \\\n",
              "1492         house                  independent  sector 105   0.37   \n",
              "535           flat  bestech park view grand spa   sector 81   2.35   \n",
              "2094          flat            gls arawali homes  sohna road   0.30   \n",
              "\n",
              "      price_per_sqft    area  \\\n",
              "1492          8222.0   450.0   \n",
              "535           8834.0  2660.0   \n",
              "2094          6243.0   481.0   \n",
              "\n",
              "                                           areaWithType  bedRoom  bathroom  \\\n",
              "1492                         Plot area 450(41.81 sq.m.)        2         2   \n",
              "535   Super Built up area 2660(247.12 sq.m.)Carpet a...        3         4   \n",
              "2094  Super Built up area 567(52.68 sq.m.)Carpet are...        2         2   \n",
              "\n",
              "     balcony  ...  super_built_up_area built_up_area carpet_area  study room  \\\n",
              "1492       1  ...                  NaN        449.88         NaN           0   \n",
              "535       3+  ...               2660.0           NaN     2356.00           0   \n",
              "2094       2  ...                567.0           NaN      480.53           0   \n",
              "\n",
              "      servant room  store room  pooja room  others  furnishing_type  \\\n",
              "1492             0           0           0       1                1   \n",
              "535              1           0           0       0                2   \n",
              "2094             0           0           0       0                0   \n",
              "\n",
              "      luxury_score  \n",
              "1492             0  \n",
              "535            101  \n",
              "2094           120  \n",
              "\n",
              "[3 rows x 23 columns]"
            ]
          },
          "execution_count": 89,
          "metadata": {},
          "output_type": "execute_result"
        }
      ],
      "source": [
        "df.sample(3)"
      ]
    },
    {
      "cell_type": "markdown",
      "metadata": {
        "id": "Yb14g0MrdwA5"
      },
      "source": [
        "# balcony"
      ]
    },
    {
      "cell_type": "code",
      "execution_count": 90,
      "metadata": {
        "colab": {
          "base_uri": "https://localhost:8080/"
        },
        "id": "zvBGUfq8ddf-",
        "outputId": "13d5d795-84ce-4f21-e476-55e60378f76f"
      },
      "outputs": [
        {
          "data": {
            "text/plain": [
              "np.int64(0)"
            ]
          },
          "execution_count": 90,
          "metadata": {},
          "output_type": "execute_result"
        }
      ],
      "source": [
        "df['balcony'].isnull().sum()"
      ]
    },
    {
      "cell_type": "code",
      "execution_count": 91,
      "metadata": {
        "colab": {
          "base_uri": "https://localhost:8080/",
          "height": 209
        },
        "id": "Hn29FhLEd2Xc",
        "outputId": "ddce79f5-8fe4-40db-900d-adbef8738104"
      },
      "outputs": [
        {
          "data": {
            "text/plain": [
              "count     3677\n",
              "unique       5\n",
              "top         3+\n",
              "freq      1172\n",
              "Name: balcony, dtype: object"
            ]
          },
          "execution_count": 91,
          "metadata": {},
          "output_type": "execute_result"
        }
      ],
      "source": [
        "df['balcony'].describe()"
      ]
    },
    {
      "cell_type": "markdown",
      "metadata": {
        "id": "_p16uP1hdvYG"
      },
      "source": []
    },
    {
      "cell_type": "code",
      "execution_count": 92,
      "metadata": {
        "colab": {
          "base_uri": "https://localhost:8080/",
          "height": 473
        },
        "id": "fy-lUubxddiH",
        "outputId": "f6a7d265-eb54-4642-a249-96af502f67af"
      },
      "outputs": [
        {
          "data": {
            "text/plain": [
              "<Axes: xlabel='balcony'>"
            ]
          },
          "execution_count": 92,
          "metadata": {},
          "output_type": "execute_result"
        },
        {
          "data": {
            "image/png": "[encoded data removed]",
            "text/plain": [
              "<Figure size 640x480 with 1 Axes>"
            ]
          },
          "metadata": {},
          "output_type": "display_data"
        }
      ],
      "source": [
        "df['balcony'].value_counts().plot(kind='bar')"
      ]
    },
    {
      "cell_type": "code",
      "execution_count": 93,
      "metadata": {
        "colab": {
          "base_uri": "https://localhost:8080/",
          "height": 423
        },
        "id": "5FggJ3avddki",
        "outputId": "878c8715-d71e-4c65-c64f-d5b4872f4565"
      },
      "outputs": [
        {
          "data": {
            "text/plain": [
              "<Axes: ylabel='proportion'>"
            ]
          },
          "execution_count": 93,
          "metadata": {},
          "output_type": "execute_result"
        },
        {
          "data": {
            "image/png": "[encoded data removed]",
            "text/plain": [
              "<Figure size 640x480 with 1 Axes>"
            ]
          },
          "metadata": {},
          "output_type": "display_data"
        }
      ],
      "source": [
        "df['balcony'].value_counts(normalize=True).head().plot(kind='pie',autopct='%0.2f%%')"
      ]
    },
    {
      "cell_type": "markdown",
      "metadata": {
        "id": "_NO8w2JEeHru"
      },
      "source": [
        "# floorNum"
      ]
    },
    {
      "cell_type": "code",
      "execution_count": 94,
      "metadata": {
        "colab": {
          "base_uri": "https://localhost:8080/",
          "height": 258
        },
        "id": "TMweRdRheFqD",
        "outputId": "d8c1444c-93e1-425d-e99e-572bd130edce"
      },
      "outputs": [
        {
          "data": {
            "text/html": [
              "<div>\n",
              "<style scoped>\n",
              "    .dataframe tbody tr th:only-of-type {\n",
              "        vertical-align: middle;\n",
              "    }\n",
              "\n",
              "    .dataframe tbody tr th {\n",
              "        vertical-align: top;\n",
              "    }\n",
              "\n",
              "    .dataframe thead th {\n",
              "        text-align: right;\n",
              "    }\n",
              "</style>\n",
              "<table border=\"1\" class=\"dataframe\">\n",
              "  <thead>\n",
              "    <tr style=\"text-align: right;\">\n",
              "      <th></th>\n",
              "      <th>floorNum</th>\n",
              "      <th>facing</th>\n",
              "      <th>agePossession</th>\n",
              "      <th>super_built_up_area</th>\n",
              "      <th>built_up_area</th>\n",
              "      <th>carpet_area</th>\n",
              "      <th>study room</th>\n",
              "      <th>servant room</th>\n",
              "      <th>store room</th>\n",
              "      <th>pooja room</th>\n",
              "      <th>others</th>\n",
              "      <th>furnishing_type</th>\n",
              "      <th>luxury_score</th>\n",
              "    </tr>\n",
              "  </thead>\n",
              "  <tbody>\n",
              "    <tr>\n",
              "      <th>0</th>\n",
              "      <td>2.0</td>\n",
              "      <td>NaN</td>\n",
              "      <td>New Property</td>\n",
              "      <td>1081.0</td>\n",
              "      <td>NaN</td>\n",
              "      <td>650.0</td>\n",
              "      <td>0</td>\n",
              "      <td>0</td>\n",
              "      <td>0</td>\n",
              "      <td>0</td>\n",
              "      <td>0</td>\n",
              "      <td>1</td>\n",
              "      <td>8</td>\n",
              "    </tr>\n",
              "    <tr>\n",
              "      <th>1</th>\n",
              "      <td>4.0</td>\n",
              "      <td>NaN</td>\n",
              "      <td>New Property</td>\n",
              "      <td>NaN</td>\n",
              "      <td>NaN</td>\n",
              "      <td>1103.0</td>\n",
              "      <td>1</td>\n",
              "      <td>1</td>\n",
              "      <td>0</td>\n",
              "      <td>0</td>\n",
              "      <td>0</td>\n",
              "      <td>1</td>\n",
              "      <td>38</td>\n",
              "    </tr>\n",
              "    <tr>\n",
              "      <th>2</th>\n",
              "      <td>0.0</td>\n",
              "      <td>NaN</td>\n",
              "      <td>Under Construction</td>\n",
              "      <td>NaN</td>\n",
              "      <td>NaN</td>\n",
              "      <td>58141.0</td>\n",
              "      <td>0</td>\n",
              "      <td>0</td>\n",
              "      <td>0</td>\n",
              "      <td>0</td>\n",
              "      <td>0</td>\n",
              "      <td>1</td>\n",
              "      <td>15</td>\n",
              "    </tr>\n",
              "    <tr>\n",
              "      <th>3</th>\n",
              "      <td>17.0</td>\n",
              "      <td>NaN</td>\n",
              "      <td>New Property</td>\n",
              "      <td>NaN</td>\n",
              "      <td>1000.0</td>\n",
              "      <td>585.0</td>\n",
              "      <td>0</td>\n",
              "      <td>0</td>\n",
              "      <td>0</td>\n",
              "      <td>0</td>\n",
              "      <td>0</td>\n",
              "      <td>1</td>\n",
              "      <td>49</td>\n",
              "    </tr>\n",
              "    <tr>\n",
              "      <th>4</th>\n",
              "      <td>10.0</td>\n",
              "      <td>North-West</td>\n",
              "      <td>Relatively New</td>\n",
              "      <td>1995.0</td>\n",
              "      <td>1615.0</td>\n",
              "      <td>1476.0</td>\n",
              "      <td>0</td>\n",
              "      <td>1</td>\n",
              "      <td>0</td>\n",
              "      <td>0</td>\n",
              "      <td>1</td>\n",
              "      <td>2</td>\n",
              "      <td>174</td>\n",
              "    </tr>\n",
              "  </tbody>\n",
              "</table>\n",
              "</div>"
            ],
            "text/plain": [
              "   floorNum      facing       agePossession  super_built_up_area  \\\n",
              "0       2.0         NaN        New Property               1081.0   \n",
              "1       4.0         NaN        New Property                  NaN   \n",
              "2       0.0         NaN  Under Construction                  NaN   \n",
              "3      17.0         NaN        New Property                  NaN   \n",
              "4      10.0  North-West      Relatively New               1995.0   \n",
              "\n",
              "   built_up_area  carpet_area  study room  servant room  store room  \\\n",
              "0            NaN        650.0           0             0           0   \n",
              "1            NaN       1103.0           1             1           0   \n",
              "2            NaN      58141.0           0             0           0   \n",
              "3         1000.0        585.0           0             0           0   \n",
              "4         1615.0       1476.0           0             1           0   \n",
              "\n",
              "   pooja room  others  furnishing_type  luxury_score  \n",
              "0           0       0                1             8  \n",
              "1           0       0                1            38  \n",
              "2           0       0                1            15  \n",
              "3           0       0                1            49  \n",
              "4           0       1                2           174  "
            ]
          },
          "execution_count": 94,
          "metadata": {},
          "output_type": "execute_result"
        }
      ],
      "source": [
        "df.iloc[:,10:].head()"
      ]
    },
    {
      "cell_type": "code",
      "execution_count": 95,
      "metadata": {
        "colab": {
          "base_uri": "https://localhost:8080/"
        },
        "id": "RYCzjN3GeWcI",
        "outputId": "886331aa-89a6-4e49-b600-b1b81643b33f"
      },
      "outputs": [
        {
          "data": {
            "text/plain": [
              "np.int64(19)"
            ]
          },
          "execution_count": 95,
          "metadata": {},
          "output_type": "execute_result"
        }
      ],
      "source": [
        "df['floorNum'].isnull().sum()"
      ]
    },
    {
      "cell_type": "code",
      "execution_count": 96,
      "metadata": {
        "colab": {
          "base_uri": "https://localhost:8080/",
          "height": 335
        },
        "id": "8gt2J0fqeXZs",
        "outputId": "57a26ddc-f8cb-4ec2-dcd1-ff5b5ca2bbcb"
      },
      "outputs": [
        {
          "data": {
            "text/plain": [
              "count    3658.000000\n",
              "mean        6.798250\n",
              "std         6.012454\n",
              "min         0.000000\n",
              "25%         2.000000\n",
              "50%         5.000000\n",
              "75%        10.000000\n",
              "max        51.000000\n",
              "Name: floorNum, dtype: float64"
            ]
          },
          "execution_count": 96,
          "metadata": {},
          "output_type": "execute_result"
        }
      ],
      "source": [
        "df['floorNum'].describe()"
      ]
    },
    {
      "cell_type": "code",
      "execution_count": 97,
      "metadata": {
        "colab": {
          "base_uri": "https://localhost:8080/",
          "height": 483
        },
        "id": "v5j8fJ2Lec74",
        "outputId": "1b7fc8a5-b7fd-4c24-b6ce-141b669cfc91"
      },
      "outputs": [
        {
          "data": {
            "text/plain": [
              "<Axes: xlabel='floorNum'>"
            ]
          },
          "execution_count": 97,
          "metadata": {},
          "output_type": "execute_result"
        },
        {
          "data": {
            "image/png": "[encoded data removed]",
            "text/plain": [
              "<Figure size 640x480 with 1 Axes>"
            ]
          },
          "metadata": {},
          "output_type": "display_data"
        }
      ],
      "source": [
        "df['floorNum'].value_counts().sort_index().plot(kind='bar')"
      ]
    },
    {
      "cell_type": "code",
      "execution_count": 98,
      "metadata": {
        "colab": {
          "base_uri": "https://localhost:8080/",
          "height": 466
        },
        "id": "B6Km16LLeew6",
        "outputId": "bfe00512-0449-47ff-92bf-3636312fec31"
      },
      "outputs": [
        {
          "data": {
            "text/plain": [
              "<Axes: xlabel='floorNum'>"
            ]
          },
          "execution_count": 98,
          "metadata": {},
          "output_type": "execute_result"
        },
        {
          "data": {
            "image/png": "[encoded data removed]",
            "text/plain": [
              "<Figure size 640x480 with 1 Axes>"
            ]
          },
          "metadata": {},
          "output_type": "display_data"
        }
      ],
      "source": [
        "sns.boxplot(x= df['floorNum'], color='lightgreen')"
      ]
    },
    {
      "cell_type": "markdown",
      "metadata": {
        "id": "BJc_acS0e0Ue"
      },
      "source": [
        "- The majority of the properties lie between the ground floor (0) and the 25th floor.\n",
        "- Floors 1 to 4 are particularly common, with the 3rd floor being the most frequent.\n",
        "- There are a few properties located at higher floors, but their frequency is much lower.\n",
        "- The box plot reveals that the majority of the properties are concentrated around the lower floors. The interquartile range (IQR) lies between approximately the 2nd and 10th floors.\n",
        "- Data points beyond the \"whiskers\" of the box plot, especially on the higher side, indicate potential outliers."
      ]
    },
    {
      "cell_type": "markdown",
      "metadata": {
        "id": "TwcZjc1Ke7d5"
      },
      "source": [
        "# facing"
      ]
    },
    {
      "cell_type": "code",
      "execution_count": 99,
      "metadata": {
        "colab": {
          "base_uri": "https://localhost:8080/"
        },
        "id": "0fcyuJxrepbG",
        "outputId": "9ac2a9b7-8108-4178-a9eb-249c6d6f9c34"
      },
      "outputs": [
        {
          "data": {
            "text/plain": [
              "np.int64(1045)"
            ]
          },
          "execution_count": 99,
          "metadata": {},
          "output_type": "execute_result"
        }
      ],
      "source": [
        "df['facing'].isnull().sum()"
      ]
    },
    {
      "cell_type": "code",
      "execution_count": 100,
      "metadata": {
        "id": "_k68hzwUe_4a"
      },
      "outputs": [
        {
          "name": "stderr",
          "output_type": "stream",
          "text": [
            "C:\\Users\\nitis\\AppData\\Local\\Temp\\ipykernel_2908\\3692945726.py:1: FutureWarning: A value is trying to be set on a copy of a DataFrame or Series through chained assignment using an inplace method.\n",
            "The behavior will change in pandas 3.0. This inplace method will never work because the intermediate object on which we are setting values always behaves as a copy.\n",
            "\n",
            "For example, when doing 'df[col].method(value, inplace=True)', try using 'df.method({col: value}, inplace=True)' or df[col] = df[col].method(value) instead, to perform the operation inplace on the original object.\n",
            "\n",
            "\n",
            "  df['facing'].fillna('NA',inplace=True)\n"
          ]
        }
      ],
      "source": [
        "df['facing'].fillna('NA',inplace=True)"
      ]
    },
    {
      "cell_type": "code",
      "execution_count": 101,
      "metadata": {
        "colab": {
          "base_uri": "https://localhost:8080/",
          "height": 397
        },
        "id": "G4laviVNfEXq",
        "outputId": "a53623a2-d660-4b32-e985-e06351cdbe11"
      },
      "outputs": [
        {
          "data": {
            "text/plain": [
              "facing\n",
              "NA            1045\n",
              "North-East     623\n",
              "East           623\n",
              "North          387\n",
              "West           249\n",
              "South          231\n",
              "North-West     193\n",
              "South-East     173\n",
              "South-West     153\n",
              "Name: count, dtype: int64"
            ]
          },
          "execution_count": 101,
          "metadata": {},
          "output_type": "execute_result"
        }
      ],
      "source": [
        "df['facing'].value_counts()"
      ]
    },
    {
      "cell_type": "markdown",
      "metadata": {
        "id": "koFp6JhXe6kn"
      },
      "source": [
        "# agePossession"
      ]
    },
    {
      "cell_type": "code",
      "execution_count": 102,
      "metadata": {
        "colab": {
          "base_uri": "https://localhost:8080/"
        },
        "id": "KsgKCl5rfGtC",
        "outputId": "6abb61a8-46ef-4aea-9472-2a9da2494baa"
      },
      "outputs": [
        {
          "data": {
            "text/plain": [
              "np.int64(0)"
            ]
          },
          "execution_count": 102,
          "metadata": {},
          "output_type": "execute_result"
        }
      ],
      "source": [
        "df['agePossession'].isnull().sum()"
      ]
    },
    {
      "cell_type": "code",
      "execution_count": 103,
      "metadata": {
        "colab": {
          "base_uri": "https://localhost:8080/",
          "height": 303
        },
        "id": "sHKa9H7cfHBv",
        "outputId": "87b181f9-e41e-4ee8-d712-ad7d31f2ea36"
      },
      "outputs": [
        {
          "data": {
            "text/plain": [
              "agePossession\n",
              "Relatively New        1646\n",
              "New Property           593\n",
              "Moderately Old         563\n",
              "Undefined              306\n",
              "Old Property           303\n",
              "Under Construction     266\n",
              "Name: count, dtype: int64"
            ]
          },
          "execution_count": 103,
          "metadata": {},
          "output_type": "execute_result"
        }
      ],
      "source": [
        "df['agePossession'].value_counts()"
      ]
    },
    {
      "cell_type": "markdown",
      "metadata": {
        "id": "Y9suiS-De6mv"
      },
      "source": [
        "# area"
      ]
    },
    {
      "cell_type": "code",
      "execution_count": 104,
      "metadata": {
        "colab": {
          "base_uri": "https://localhost:8080/"
        },
        "id": "7tXgqbkFfRKz",
        "outputId": "5ed695e5-4092-4ebf-cdee-a698df0a50e3"
      },
      "outputs": [
        {
          "data": {
            "text/plain": [
              "np.int64(1802)"
            ]
          },
          "execution_count": 104,
          "metadata": {},
          "output_type": "execute_result"
        }
      ],
      "source": [
        "# super built up area\n",
        "df['super_built_up_area'].isnull().sum()"
      ]
    },
    {
      "cell_type": "code",
      "execution_count": 105,
      "metadata": {
        "colab": {
          "base_uri": "https://localhost:8080/",
          "height": 489
        },
        "id": "McvBSYMwftbO",
        "outputId": "76709403-ad62-4131-ed47-be154ff3d53f"
      },
      "outputs": [
        {
          "data": {
            "text/plain": [
              "super_built_up_area\n",
              "1650.0    37\n",
              "1950.0    37\n",
              "1578.0    25\n",
              "2000.0    25\n",
              "2150.0    22\n",
              "          ..\n",
              "2341.0     1\n",
              "1587.0     1\n",
              "2030.0     1\n",
              "2380.0     1\n",
              "1523.0     1\n",
              "Name: count, Length: 593, dtype: int64"
            ]
          },
          "execution_count": 105,
          "metadata": {},
          "output_type": "execute_result"
        }
      ],
      "source": [
        "df['super_built_up_area'].value_counts()"
      ]
    },
    {
      "cell_type": "code",
      "execution_count": 106,
      "metadata": {
        "colab": {
          "base_uri": "https://localhost:8080/",
          "height": 335
        },
        "id": "M1MXNtkFfZcC",
        "outputId": "9ef88beb-d0f8-4e6c-9b23-59cd63b51c2e"
      },
      "outputs": [
        {
          "data": {
            "text/plain": [
              "count     1875.000000\n",
              "mean      1925.237627\n",
              "std        764.172177\n",
              "min         89.000000\n",
              "25%       1479.500000\n",
              "50%       1828.000000\n",
              "75%       2215.000000\n",
              "max      10000.000000\n",
              "Name: super_built_up_area, dtype: float64"
            ]
          },
          "execution_count": 106,
          "metadata": {},
          "output_type": "execute_result"
        }
      ],
      "source": [
        "df['super_built_up_area'].describe()"
      ]
    },
    {
      "cell_type": "code",
      "execution_count": 107,
      "metadata": {
        "colab": {
          "base_uri": "https://localhost:8080/",
          "height": 467
        },
        "id": "giEGt91bfc8Z",
        "outputId": "8ad4396c-0162-42ff-9059-8ddb2d0573e3"
      },
      "outputs": [
        {
          "data": {
            "text/plain": [
              "<Axes: xlabel='super_built_up_area', ylabel='Count'>"
            ]
          },
          "execution_count": 107,
          "metadata": {},
          "output_type": "execute_result"
        },
        {
          "data": {
            "image/png": "[encoded data removed]",
            "text/plain": [
              "<Figure size 640x480 with 1 Axes>"
            ]
          },
          "metadata": {},
          "output_type": "display_data"
        }
      ],
      "source": [
        "sns.histplot(df['super_built_up_area'].dropna(), bins=50, color='skyblue', kde=True)"
      ]
    },
    {
      "cell_type": "code",
      "execution_count": 108,
      "metadata": {
        "colab": {
          "base_uri": "https://localhost:8080/",
          "height": 467
        },
        "id": "pR7FzSGEgCI-",
        "outputId": "dd03abe5-fa83-404d-9f94-bba0f1a1d528"
      },
      "outputs": [
        {
          "data": {
            "text/plain": [
              "<Axes: xlabel='super_built_up_area'>"
            ]
          },
          "execution_count": 108,
          "metadata": {},
          "output_type": "execute_result"
        },
        {
          "data": {
            "image/png": "[encoded data removed]",
            "text/plain": [
              "<Figure size 640x480 with 1 Axes>"
            ]
          },
          "metadata": {},
          "output_type": "display_data"
        }
      ],
      "source": [
        "sns.boxplot(x= df['super_built_up_area'].dropna(), color='lightgreen')"
      ]
    },
    {
      "cell_type": "markdown",
      "metadata": {
        "id": "wRMeDw1zhFHz"
      },
      "source": [
        "- Most properties have a super built-up area ranging between approximately 1,000 sq.ft and 2,500 sq.ft.\n",
        "- There are a few properties with a significantly larger area, leading to a right-skewed distribution.\n",
        "- The interquartile range (IQR) lies between roughly 1,480 sq.ft and 2,215 sq.ft, indicating that the middle 50% of the properties fall within this range.\n",
        "- There are several data points beyond the upper \"whisker\" of the box plot, indicating potential outliers. These are properties with an unusually large super built-up area."
      ]
    },
    {
      "cell_type": "code",
      "execution_count": 109,
      "metadata": {
        "colab": {
          "base_uri": "https://localhost:8080/"
        },
        "id": "zWIwdQZfgCL7",
        "outputId": "5cab5795-9dd7-4382-a180-9ac302f85c8d"
      },
      "outputs": [
        {
          "data": {
            "text/plain": [
              "np.int64(1994)"
            ]
          },
          "execution_count": 109,
          "metadata": {},
          "output_type": "execute_result"
        }
      ],
      "source": [
        "# built up area\n",
        "df['built_up_area'].isnull().sum()"
      ]
    },
    {
      "cell_type": "code",
      "execution_count": 110,
      "metadata": {
        "colab": {
          "base_uri": "https://localhost:8080/",
          "height": 335
        },
        "id": "f22u7Ix2gCOe",
        "outputId": "4294d6e2-f9c3-42ff-ff23-245dc61215a5"
      },
      "outputs": [
        {
          "data": {
            "text/plain": [
              "count      1683.000000\n",
              "mean       2482.049846\n",
              "std       18087.282829\n",
              "min          30.000000\n",
              "25%        1150.000000\n",
              "50%        1700.000000\n",
              "75%        2429.070000\n",
              "max      737147.000000\n",
              "Name: built_up_area, dtype: float64"
            ]
          },
          "execution_count": 110,
          "metadata": {},
          "output_type": "execute_result"
        }
      ],
      "source": [
        "df['built_up_area'].describe()"
      ]
    },
    {
      "cell_type": "code",
      "execution_count": 111,
      "metadata": {
        "colab": {
          "base_uri": "https://localhost:8080/",
          "height": 467
        },
        "id": "0diPCqBsgCQm",
        "outputId": "ec027016-9035-4a84-b4c5-dd02676f9ced"
      },
      "outputs": [
        {
          "data": {
            "text/plain": [
              "<Axes: xlabel='built_up_area', ylabel='Count'>"
            ]
          },
          "execution_count": 111,
          "metadata": {},
          "output_type": "execute_result"
        },
        {
          "data": {
            "image/png": "[encoded data removed]",
            "text/plain": [
              "<Figure size 640x480 with 1 Axes>"
            ]
          },
          "metadata": {},
          "output_type": "display_data"
        }
      ],
      "source": [
        "sns.histplot(df['built_up_area'].dropna(), bins=50, color='skyblue', kde=False)"
      ]
    },
    {
      "cell_type": "code",
      "execution_count": 112,
      "metadata": {
        "colab": {
          "base_uri": "https://localhost:8080/",
          "height": 467
        },
        "id": "FGCdxN1RgCSr",
        "outputId": "b82492fa-4b78-488f-b6a3-00a91cc63530"
      },
      "outputs": [
        {
          "data": {
            "text/plain": [
              "<Axes: xlabel='built_up_area'>"
            ]
          },
          "execution_count": 112,
          "metadata": {},
          "output_type": "execute_result"
        },
        {
          "data": {
            "image/png": "[encoded data removed]",
            "text/plain": [
              "<Figure size 640x480 with 1 Axes>"
            ]
          },
          "metadata": {},
          "output_type": "display_data"
        }
      ],
      "source": [
        "sns.boxplot(x=df['built_up_area'].dropna(), color='lightgreen')"
      ]
    },
    {
      "cell_type": "markdown",
      "metadata": {
        "id": "Irrdfox5hhxH"
      },
      "source": [
        "- Most properties have a built-up area ranging roughly between 500 sq.ft and 3,500 sq.ft.\n",
        "- There are very few properties with a much larger built-up area, leading to a highly right-skewed distribution.\n",
        "- The box plot confirms the presence of significant outliers on the higher side. The data's interquartile range (IQR) is relatively compact, but the \"whiskers\" of the box plot are stretched due to the outliers.\n",
        "- The presence of extreme values, especially on the higher side, suggests that there may be outliers or data errors. This could also be due to some properties being exceptionally large, like a commercial complex or an entire building being listed."
      ]
    },
    {
      "cell_type": "code",
      "execution_count": 113,
      "metadata": {
        "colab": {
          "base_uri": "https://localhost:8080/"
        },
        "id": "SsQjd0_lgCUx",
        "outputId": "d43138b2-a6a9-4960-ba72-629b4781c627"
      },
      "outputs": [
        {
          "data": {
            "text/plain": [
              "np.int64(1805)"
            ]
          },
          "execution_count": 113,
          "metadata": {},
          "output_type": "execute_result"
        }
      ],
      "source": [
        "# carpet area\n",
        "df['carpet_area'].isnull().sum()"
      ]
    },
    {
      "cell_type": "code",
      "execution_count": 114,
      "metadata": {
        "colab": {
          "base_uri": "https://localhost:8080/",
          "height": 335
        },
        "id": "A0eUDuPtgA0P",
        "outputId": "4c55007b-8344-4258-f9be-53750e003346"
      },
      "outputs": [
        {
          "data": {
            "text/plain": [
              "count      1872.000000\n",
              "mean       2529.179578\n",
              "std       22799.836442\n",
              "min          15.000000\n",
              "25%         843.000000\n",
              "50%        1300.000000\n",
              "75%        1790.000000\n",
              "max      607936.000000\n",
              "Name: carpet_area, dtype: float64"
            ]
          },
          "execution_count": 114,
          "metadata": {},
          "output_type": "execute_result"
        }
      ],
      "source": [
        "df['carpet_area'].describe()"
      ]
    },
    {
      "cell_type": "code",
      "execution_count": 115,
      "metadata": {
        "colab": {
          "base_uri": "https://localhost:8080/",
          "height": 466
        },
        "id": "jJLvDgDLgA78",
        "outputId": "06319844-8596-4ae5-94f6-619c347e5cb7"
      },
      "outputs": [
        {
          "data": {
            "text/plain": [
              "<Axes: xlabel='carpet_area', ylabel='Count'>"
            ]
          },
          "execution_count": 115,
          "metadata": {},
          "output_type": "execute_result"
        },
        {
          "data": {
            "image/png": "[encoded data removed]",
            "text/plain": [
              "<Figure size 640x480 with 1 Axes>"
            ]
          },
          "metadata": {},
          "output_type": "display_data"
        }
      ],
      "source": [
        "sns.histplot(df['carpet_area'].dropna(), bins=50, color='skyblue', kde=False)"
      ]
    },
    {
      "cell_type": "code",
      "execution_count": 116,
      "metadata": {
        "colab": {
          "base_uri": "https://localhost:8080/",
          "height": 466
        },
        "id": "MRjlwBWPgA--",
        "outputId": "388019bc-da91-48f3-8b37-9dae25f0b4b5"
      },
      "outputs": [
        {
          "data": {
            "text/plain": [
              "<Axes: xlabel='carpet_area'>"
            ]
          },
          "execution_count": 116,
          "metadata": {},
          "output_type": "execute_result"
        },
        {
          "data": {
            "image/png": "[encoded data removed]",
            "text/plain": [
              "<Figure size 640x480 with 1 Axes>"
            ]
          },
          "metadata": {},
          "output_type": "display_data"
        }
      ],
      "source": [
        "sns.boxplot(x=df['carpet_area'].dropna(), color='lightgreen')"
      ]
    },
    {
      "cell_type": "code",
      "execution_count": 117,
      "metadata": {
        "colab": {
          "base_uri": "https://localhost:8080/",
          "height": 423
        },
        "id": "5lG82wTPgBcW",
        "outputId": "26be6525-0597-4a60-b71e-c638da8a7a0f"
      },
      "outputs": [
        {
          "data": {
            "text/html": [
              "<div>\n",
              "<style scoped>\n",
              "    .dataframe tbody tr th:only-of-type {\n",
              "        vertical-align: middle;\n",
              "    }\n",
              "\n",
              "    .dataframe tbody tr th {\n",
              "        vertical-align: top;\n",
              "    }\n",
              "\n",
              "    .dataframe thead th {\n",
              "        text-align: right;\n",
              "    }\n",
              "</style>\n",
              "<table border=\"1\" class=\"dataframe\">\n",
              "  <thead>\n",
              "    <tr style=\"text-align: right;\">\n",
              "      <th></th>\n",
              "      <th>study room</th>\n",
              "      <th>servant room</th>\n",
              "      <th>store room</th>\n",
              "      <th>pooja room</th>\n",
              "      <th>others</th>\n",
              "      <th>furnishing_type</th>\n",
              "      <th>luxury_score</th>\n",
              "    </tr>\n",
              "  </thead>\n",
              "  <tbody>\n",
              "    <tr>\n",
              "      <th>0</th>\n",
              "      <td>0</td>\n",
              "      <td>0</td>\n",
              "      <td>0</td>\n",
              "      <td>0</td>\n",
              "      <td>0</td>\n",
              "      <td>1</td>\n",
              "      <td>8</td>\n",
              "    </tr>\n",
              "    <tr>\n",
              "      <th>1</th>\n",
              "      <td>1</td>\n",
              "      <td>1</td>\n",
              "      <td>0</td>\n",
              "      <td>0</td>\n",
              "      <td>0</td>\n",
              "      <td>1</td>\n",
              "      <td>38</td>\n",
              "    </tr>\n",
              "    <tr>\n",
              "      <th>2</th>\n",
              "      <td>0</td>\n",
              "      <td>0</td>\n",
              "      <td>0</td>\n",
              "      <td>0</td>\n",
              "      <td>0</td>\n",
              "      <td>1</td>\n",
              "      <td>15</td>\n",
              "    </tr>\n",
              "    <tr>\n",
              "      <th>3</th>\n",
              "      <td>0</td>\n",
              "      <td>0</td>\n",
              "      <td>0</td>\n",
              "      <td>0</td>\n",
              "      <td>0</td>\n",
              "      <td>1</td>\n",
              "      <td>49</td>\n",
              "    </tr>\n",
              "    <tr>\n",
              "      <th>4</th>\n",
              "      <td>0</td>\n",
              "      <td>1</td>\n",
              "      <td>0</td>\n",
              "      <td>0</td>\n",
              "      <td>1</td>\n",
              "      <td>2</td>\n",
              "      <td>174</td>\n",
              "    </tr>\n",
              "    <tr>\n",
              "      <th>...</th>\n",
              "      <td>...</td>\n",
              "      <td>...</td>\n",
              "      <td>...</td>\n",
              "      <td>...</td>\n",
              "      <td>...</td>\n",
              "      <td>...</td>\n",
              "      <td>...</td>\n",
              "    </tr>\n",
              "    <tr>\n",
              "      <th>3798</th>\n",
              "      <td>0</td>\n",
              "      <td>0</td>\n",
              "      <td>0</td>\n",
              "      <td>0</td>\n",
              "      <td>0</td>\n",
              "      <td>1</td>\n",
              "      <td>73</td>\n",
              "    </tr>\n",
              "    <tr>\n",
              "      <th>3799</th>\n",
              "      <td>1</td>\n",
              "      <td>1</td>\n",
              "      <td>1</td>\n",
              "      <td>1</td>\n",
              "      <td>0</td>\n",
              "      <td>1</td>\n",
              "      <td>160</td>\n",
              "    </tr>\n",
              "    <tr>\n",
              "      <th>3800</th>\n",
              "      <td>0</td>\n",
              "      <td>0</td>\n",
              "      <td>0</td>\n",
              "      <td>0</td>\n",
              "      <td>0</td>\n",
              "      <td>2</td>\n",
              "      <td>67</td>\n",
              "    </tr>\n",
              "    <tr>\n",
              "      <th>3801</th>\n",
              "      <td>1</td>\n",
              "      <td>1</td>\n",
              "      <td>1</td>\n",
              "      <td>1</td>\n",
              "      <td>0</td>\n",
              "      <td>1</td>\n",
              "      <td>76</td>\n",
              "    </tr>\n",
              "    <tr>\n",
              "      <th>3802</th>\n",
              "      <td>0</td>\n",
              "      <td>0</td>\n",
              "      <td>0</td>\n",
              "      <td>0</td>\n",
              "      <td>0</td>\n",
              "      <td>2</td>\n",
              "      <td>126</td>\n",
              "    </tr>\n",
              "  </tbody>\n",
              "</table>\n",
              "<p>3677 rows × 7 columns</p>\n",
              "</div>"
            ],
            "text/plain": [
              "      study room  servant room  store room  pooja room  others  \\\n",
              "0              0             0           0           0       0   \n",
              "1              1             1           0           0       0   \n",
              "2              0             0           0           0       0   \n",
              "3              0             0           0           0       0   \n",
              "4              0             1           0           0       1   \n",
              "...          ...           ...         ...         ...     ...   \n",
              "3798           0             0           0           0       0   \n",
              "3799           1             1           1           1       0   \n",
              "3800           0             0           0           0       0   \n",
              "3801           1             1           1           1       0   \n",
              "3802           0             0           0           0       0   \n",
              "\n",
              "      furnishing_type  luxury_score  \n",
              "0                   1             8  \n",
              "1                   1            38  \n",
              "2                   1            15  \n",
              "3                   1            49  \n",
              "4                   2           174  \n",
              "...               ...           ...  \n",
              "3798                1            73  \n",
              "3799                1           160  \n",
              "3800                2            67  \n",
              "3801                1            76  \n",
              "3802                2           126  \n",
              "\n",
              "[3677 rows x 7 columns]"
            ]
          },
          "execution_count": 117,
          "metadata": {},
          "output_type": "execute_result"
        }
      ],
      "source": [
        "df.iloc[:,16:]"
      ]
    },
    {
      "cell_type": "markdown",
      "metadata": {
        "id": "sjR2IcV7iIT_"
      },
      "source": [
        "# additonal room"
      ]
    },
    {
      "cell_type": "code",
      "execution_count": 118,
      "metadata": {
        "colab": {
          "base_uri": "https://localhost:8080/",
          "height": 821
        },
        "id": "CRyz-HgogBgW",
        "outputId": "21926fd4-8209-4e2c-909e-64b90a871dba"
      },
      "outputs": [
        {
          "data": {
            "image/png": "[encoded data removed]",
            "text/plain": [
              "<Figure size 2000x1200 with 5 Axes>"
            ]
          },
          "metadata": {},
          "output_type": "display_data"
        }
      ],
      "source": [
        "plt.figure(figsize=(20, 12))\n",
        "\n",
        "# Create a subplot of pie charts for each room type\n",
        "for idx, room in enumerate(['study room','servant room','store room','pooja room','others'], 1):\n",
        "    ax = plt.subplot(2, 3, idx)\n",
        "    df[room].value_counts().plot.pie(autopct='%1.1f%%', startangle=90, ax=ax)\n",
        "    plt.title(f'Distribution of {room.title()}')\n",
        "    plt.ylabel('')\n",
        "\n",
        "plt.tight_layout()\n",
        "plt.show()"
      ]
    },
    {
      "cell_type": "markdown",
      "metadata": {
        "id": "7zGW0bJQiQ8P"
      },
      "source": [
        "# furnishing_type"
      ]
    },
    {
      "cell_type": "code",
      "execution_count": 119,
      "metadata": {
        "colab": {
          "base_uri": "https://localhost:8080/",
          "height": 209
        },
        "id": "_npg1x_egBie",
        "outputId": "9f7f89f1-d177-4043-e046-80b0acbfb166"
      },
      "outputs": [
        {
          "data": {
            "text/plain": [
              "furnishing_type\n",
              "1    2436\n",
              "2    1038\n",
              "0     203\n",
              "Name: count, dtype: int64"
            ]
          },
          "execution_count": 119,
          "metadata": {},
          "output_type": "execute_result"
        }
      ],
      "source": [
        "df['furnishing_type'].value_counts()"
      ]
    },
    {
      "cell_type": "code",
      "execution_count": 120,
      "metadata": {
        "colab": {
          "base_uri": "https://localhost:8080/",
          "height": 423
        },
        "id": "_fa3rH3vgBkl",
        "outputId": "7e0e251d-8ecc-4829-d670-6341fff0ffcd"
      },
      "outputs": [
        {
          "data": {
            "text/plain": [
              "<Axes: ylabel='count'>"
            ]
          },
          "execution_count": 120,
          "metadata": {},
          "output_type": "execute_result"
        },
        {
          "data": {
            "image/png": "[encoded data removed]",
            "text/plain": [
              "<Figure size 640x480 with 1 Axes>"
            ]
          },
          "metadata": {},
          "output_type": "display_data"
        }
      ],
      "source": [
        "df['furnishing_type'].value_counts().plot(kind='pie',autopct='%0.2f%%')\n"
      ]
    },
    {
      "cell_type": "markdown",
      "metadata": {
        "id": "urMEBbb8e64f"
      },
      "source": [
        "# luxury score"
      ]
    },
    {
      "cell_type": "code",
      "execution_count": 121,
      "metadata": {
        "colab": {
          "base_uri": "https://localhost:8080/"
        },
        "id": "_D3oRLsaiizP",
        "outputId": "7e74a33c-84e2-4b51-ccb8-88050aac79b4"
      },
      "outputs": [
        {
          "data": {
            "text/plain": [
              "np.int64(0)"
            ]
          },
          "execution_count": 121,
          "metadata": {},
          "output_type": "execute_result"
        }
      ],
      "source": [
        "df['luxury_score'].isnull().sum()"
      ]
    },
    {
      "cell_type": "code",
      "execution_count": 122,
      "metadata": {
        "colab": {
          "base_uri": "https://localhost:8080/",
          "height": 335
        },
        "id": "J4HP937hipv2",
        "outputId": "40c70895-43ab-40b7-ae16-82b910a0100c"
      },
      "outputs": [
        {
          "data": {
            "text/plain": [
              "count    3677.000000\n",
              "mean       71.512918\n",
              "std        53.059082\n",
              "min         0.000000\n",
              "25%        31.000000\n",
              "50%        59.000000\n",
              "75%       110.000000\n",
              "max       174.000000\n",
              "Name: luxury_score, dtype: float64"
            ]
          },
          "execution_count": 122,
          "metadata": {},
          "output_type": "execute_result"
        }
      ],
      "source": [
        "df['luxury_score'].describe()"
      ]
    },
    {
      "cell_type": "code",
      "execution_count": 123,
      "metadata": {
        "colab": {
          "base_uri": "https://localhost:8080/",
          "height": 467
        },
        "id": "ALvLy7ahiu2f",
        "outputId": "523e866b-68ac-440d-91a3-8e38fb6e5fb5"
      },
      "outputs": [
        {
          "data": {
            "text/plain": [
              "<Axes: xlabel='luxury_score', ylabel='Count'>"
            ]
          },
          "execution_count": 123,
          "metadata": {},
          "output_type": "execute_result"
        },
        {
          "data": {
            "image/png": "[encoded data removed]",
            "text/plain": [
              "<Figure size 640x480 with 1 Axes>"
            ]
          },
          "metadata": {},
          "output_type": "display_data"
        }
      ],
      "source": [
        "sns.histplot(df['luxury_score'], bins=50, color='skyblue', kde=True)"
      ]
    },
    {
      "cell_type": "code",
      "execution_count": 124,
      "metadata": {
        "colab": {
          "base_uri": "https://localhost:8080/",
          "height": 428
        },
        "id": "t2dS5LHTiw2q",
        "outputId": "e042f3a7-6b77-473d-eeb3-dcbbb80a9df5"
      },
      "outputs": [
        {
          "data": {
            "text/plain": [
              "<Axes: ylabel='luxury_score'>"
            ]
          },
          "execution_count": 124,
          "metadata": {},
          "output_type": "execute_result"
        },
        {
          "data": {
            "image/png": "[encoded data removed]",
            "text/plain": [
              "<Figure size 640x480 with 1 Axes>"
            ]
          },
          "metadata": {},
          "output_type": "display_data"
        }
      ],
      "source": [
        "sns.boxplot(df['luxury_score'], color='lightgreen')"
      ]
    },
    {
      "cell_type": "markdown",
      "metadata": {
        "id": "JjA9LHZ_e6sM"
      },
      "source": [
        "The luxury score distribution has multiple peaks, suggesting a multi-modal distribution. There's a significant number of properties with lower luxury scores (around 0-50), and another peak is observed around the 110-130 range.\n",
        "\n",
        "The box plot reveals that the majority of the properties have luxury scores between approximately 30 and 110. The interquartile range (IQR) lies between these values"
      ]
    },
    {
      "cell_type": "code",
      "execution_count": 125,
      "metadata": {
        "colab": {
          "base_uri": "https://localhost:8080/",
          "height": 550
        },
        "id": "SNWSW2FCi2Uj",
        "outputId": "c12ed884-cc40-4dfb-dc68-f86924d0b358"
      },
      "outputs": [
        {
          "data": {
            "text/html": [
              "<div>\n",
              "<style scoped>\n",
              "    .dataframe tbody tr th:only-of-type {\n",
              "        vertical-align: middle;\n",
              "    }\n",
              "\n",
              "    .dataframe tbody tr th {\n",
              "        vertical-align: top;\n",
              "    }\n",
              "\n",
              "    .dataframe thead th {\n",
              "        text-align: right;\n",
              "    }\n",
              "</style>\n",
              "<table border=\"1\" class=\"dataframe\">\n",
              "  <thead>\n",
              "    <tr style=\"text-align: right;\">\n",
              "      <th></th>\n",
              "      <th>property_type</th>\n",
              "      <th>society</th>\n",
              "      <th>sector</th>\n",
              "      <th>price</th>\n",
              "      <th>price_per_sqft</th>\n",
              "      <th>area</th>\n",
              "      <th>areaWithType</th>\n",
              "      <th>bedRoom</th>\n",
              "      <th>bathroom</th>\n",
              "      <th>balcony</th>\n",
              "      <th>...</th>\n",
              "      <th>super_built_up_area</th>\n",
              "      <th>built_up_area</th>\n",
              "      <th>carpet_area</th>\n",
              "      <th>study room</th>\n",
              "      <th>servant room</th>\n",
              "      <th>store room</th>\n",
              "      <th>pooja room</th>\n",
              "      <th>others</th>\n",
              "      <th>furnishing_type</th>\n",
              "      <th>luxury_score</th>\n",
              "    </tr>\n",
              "  </thead>\n",
              "  <tbody>\n",
              "    <tr>\n",
              "      <th>0</th>\n",
              "      <td>flat</td>\n",
              "      <td>signature global park 4</td>\n",
              "      <td>sector 36</td>\n",
              "      <td>0.82</td>\n",
              "      <td>7585.0</td>\n",
              "      <td>1081.0</td>\n",
              "      <td>Super Built up area 1081(100.43 sq.m.)Carpet a...</td>\n",
              "      <td>3</td>\n",
              "      <td>2</td>\n",
              "      <td>2</td>\n",
              "      <td>...</td>\n",
              "      <td>1081.0</td>\n",
              "      <td>NaN</td>\n",
              "      <td>650.0</td>\n",
              "      <td>0</td>\n",
              "      <td>0</td>\n",
              "      <td>0</td>\n",
              "      <td>0</td>\n",
              "      <td>0</td>\n",
              "      <td>1</td>\n",
              "      <td>8</td>\n",
              "    </tr>\n",
              "    <tr>\n",
              "      <th>1</th>\n",
              "      <td>flat</td>\n",
              "      <td>smart world gems</td>\n",
              "      <td>sector 89</td>\n",
              "      <td>0.95</td>\n",
              "      <td>8600.0</td>\n",
              "      <td>1105.0</td>\n",
              "      <td>Carpet area: 1103 (102.47 sq.m.)</td>\n",
              "      <td>2</td>\n",
              "      <td>2</td>\n",
              "      <td>2</td>\n",
              "      <td>...</td>\n",
              "      <td>NaN</td>\n",
              "      <td>NaN</td>\n",
              "      <td>1103.0</td>\n",
              "      <td>1</td>\n",
              "      <td>1</td>\n",
              "      <td>0</td>\n",
              "      <td>0</td>\n",
              "      <td>0</td>\n",
              "      <td>1</td>\n",
              "      <td>38</td>\n",
              "    </tr>\n",
              "    <tr>\n",
              "      <th>2</th>\n",
              "      <td>flat</td>\n",
              "      <td>pyramid elite</td>\n",
              "      <td>sector 86</td>\n",
              "      <td>0.46</td>\n",
              "      <td>79.0</td>\n",
              "      <td>58228.0</td>\n",
              "      <td>Carpet area: 58141 (5401.48 sq.m.)</td>\n",
              "      <td>2</td>\n",
              "      <td>2</td>\n",
              "      <td>1</td>\n",
              "      <td>...</td>\n",
              "      <td>NaN</td>\n",
              "      <td>NaN</td>\n",
              "      <td>58141.0</td>\n",
              "      <td>0</td>\n",
              "      <td>0</td>\n",
              "      <td>0</td>\n",
              "      <td>0</td>\n",
              "      <td>0</td>\n",
              "      <td>1</td>\n",
              "      <td>15</td>\n",
              "    </tr>\n",
              "    <tr>\n",
              "      <th>3</th>\n",
              "      <td>flat</td>\n",
              "      <td>breez global hill view</td>\n",
              "      <td>sohna road</td>\n",
              "      <td>0.32</td>\n",
              "      <td>5470.0</td>\n",
              "      <td>585.0</td>\n",
              "      <td>Built Up area: 1000 (92.9 sq.m.)Carpet area: 5...</td>\n",
              "      <td>2</td>\n",
              "      <td>2</td>\n",
              "      <td>1</td>\n",
              "      <td>...</td>\n",
              "      <td>NaN</td>\n",
              "      <td>1000.0</td>\n",
              "      <td>585.0</td>\n",
              "      <td>0</td>\n",
              "      <td>0</td>\n",
              "      <td>0</td>\n",
              "      <td>0</td>\n",
              "      <td>0</td>\n",
              "      <td>1</td>\n",
              "      <td>49</td>\n",
              "    </tr>\n",
              "    <tr>\n",
              "      <th>4</th>\n",
              "      <td>flat</td>\n",
              "      <td>bestech park view sanskruti</td>\n",
              "      <td>sector 92</td>\n",
              "      <td>1.60</td>\n",
              "      <td>8020.0</td>\n",
              "      <td>1995.0</td>\n",
              "      <td>Super Built up area 1995(185.34 sq.m.)Built Up...</td>\n",
              "      <td>3</td>\n",
              "      <td>4</td>\n",
              "      <td>3+</td>\n",
              "      <td>...</td>\n",
              "      <td>1995.0</td>\n",
              "      <td>1615.0</td>\n",
              "      <td>1476.0</td>\n",
              "      <td>0</td>\n",
              "      <td>1</td>\n",
              "      <td>0</td>\n",
              "      <td>0</td>\n",
              "      <td>1</td>\n",
              "      <td>2</td>\n",
              "      <td>174</td>\n",
              "    </tr>\n",
              "  </tbody>\n",
              "</table>\n",
              "<p>5 rows × 23 columns</p>\n",
              "</div>"
            ],
            "text/plain": [
              "  property_type                      society      sector  price  \\\n",
              "0          flat      signature global park 4   sector 36   0.82   \n",
              "1          flat             smart world gems   sector 89   0.95   \n",
              "2          flat                pyramid elite   sector 86   0.46   \n",
              "3          flat       breez global hill view  sohna road   0.32   \n",
              "4          flat  bestech park view sanskruti   sector 92   1.60   \n",
              "\n",
              "   price_per_sqft     area                                       areaWithType  \\\n",
              "0          7585.0   1081.0  Super Built up area 1081(100.43 sq.m.)Carpet a...   \n",
              "1          8600.0   1105.0                   Carpet area: 1103 (102.47 sq.m.)   \n",
              "2            79.0  58228.0                 Carpet area: 58141 (5401.48 sq.m.)   \n",
              "3          5470.0    585.0  Built Up area: 1000 (92.9 sq.m.)Carpet area: 5...   \n",
              "4          8020.0   1995.0  Super Built up area 1995(185.34 sq.m.)Built Up...   \n",
              "\n",
              "   bedRoom  bathroom balcony  ...  super_built_up_area built_up_area  \\\n",
              "0        3         2       2  ...               1081.0           NaN   \n",
              "1        2         2       2  ...                  NaN           NaN   \n",
              "2        2         2       1  ...                  NaN           NaN   \n",
              "3        2         2       1  ...                  NaN        1000.0   \n",
              "4        3         4      3+  ...               1995.0        1615.0   \n",
              "\n",
              "  carpet_area  study room  servant room  store room  pooja room  others  \\\n",
              "0       650.0           0             0           0           0       0   \n",
              "1      1103.0           1             1           0           0       0   \n",
              "2     58141.0           0             0           0           0       0   \n",
              "3       585.0           0             0           0           0       0   \n",
              "4      1476.0           0             1           0           0       1   \n",
              "\n",
              "   furnishing_type  luxury_score  \n",
              "0                1             8  \n",
              "1                1            38  \n",
              "2                1            15  \n",
              "3                1            49  \n",
              "4                2           174  \n",
              "\n",
              "[5 rows x 23 columns]"
            ]
          },
          "execution_count": 125,
          "metadata": {},
          "output_type": "execute_result"
        }
      ],
      "source": [
        "df.head()"
      ]
    }
  ],
  "metadata": {
    "accelerator": "GPU",
    "colab": {
      "gpuType": "T4",
      "provenance": []
    },
    "kernelspec": {
      "display_name": "Python 3",
      "name": "python3"
    },
    "language_info": {
      "codemirror_mode": {
        "name": "ipython",
        "version": 3
      },
      "file_extension": ".py",
      "mimetype": "text/x-python",
      "name": "python",
      "nbconvert_exporter": "python",
      "pygments_lexer": "ipython3",
      "version": "3.11.0"
    }
  },
  "nbformat": 4,
  "nbformat_minor": 0
}
