{
  "cells": [
    {
      "cell_type": "code",
      "execution_count": 10,
      "metadata": {
        "colab": {
          "base_uri": "https://localhost:8080/",
          "height": 356
        },
        "id": "isnRVWBwj_Fi",
        "outputId": "e7fb7da6-b09f-4af4-bbda-44d18eafc3ab"
      },
      "outputs": [
        {
          "ename": "PydanticImportError",
          "evalue": "`BaseSettings` has been moved to the `pydantic-settings` package. See https://docs.pydantic.dev/2.9/migration/#basesettings-has-moved-to-pydantic-settings for more details.\n\nFor further information visit https://errors.pydantic.dev/2.9/u/import-error",
          "output_type": "error",
          "traceback": [
            "\u001b[1;31m---------------------------------------------------------------------------\u001b[0m",
            "\u001b[1;31mPydanticImportError\u001b[0m                       Traceback (most recent call last)",
            "Cell \u001b[1;32mIn[10], line 2\u001b[0m\n\u001b[0;32m      1\u001b[0m \u001b[38;5;28;01mimport\u001b[39;00m \u001b[38;5;21;01mpandas\u001b[39;00m \u001b[38;5;28;01mas\u001b[39;00m \u001b[38;5;21;01mpd\u001b[39;00m\n\u001b[1;32m----> 2\u001b[0m \u001b[38;5;28;01mfrom\u001b[39;00m \u001b[38;5;21;01mpandas_profiling\u001b[39;00m \u001b[38;5;28;01mimport\u001b[39;00m ProfileReport\n\u001b[0;32m      4\u001b[0m \u001b[38;5;66;03m# Load your dataset\u001b[39;00m\n\u001b[0;32m      5\u001b[0m df \u001b[38;5;241m=\u001b[39m pd\u001b[38;5;241m.\u001b[39mread_csv(\u001b[38;5;124m'\u001b[39m\u001b[38;5;124m../gurgaon_data/gurgaon_properties_cleaned_v2.csv\u001b[39m\u001b[38;5;124m'\u001b[39m)\u001b[38;5;241m.\u001b[39mdrop_duplicates()\n",
            "File \u001b[1;32md:\\projects\\home_price_predict\\home_predict\\Lib\\site-packages\\pandas_profiling\\__init__.py:6\u001b[0m\n\u001b[0;32m      1\u001b[0m \u001b[38;5;124;03m\"\"\"Main module of pandas-profiling.\u001b[39;00m\n\u001b[0;32m      2\u001b[0m \n\u001b[0;32m      3\u001b[0m \u001b[38;5;124;03m.. include:: ../../README.md\u001b[39;00m\n\u001b[0;32m      4\u001b[0m \u001b[38;5;124;03m\"\"\"\u001b[39;00m\n\u001b[1;32m----> 6\u001b[0m \u001b[38;5;28;01mfrom\u001b[39;00m \u001b[38;5;21;01mpandas_profiling\u001b[39;00m\u001b[38;5;21;01m.\u001b[39;00m\u001b[38;5;21;01mcontroller\u001b[39;00m \u001b[38;5;28;01mimport\u001b[39;00m pandas_decorator\n\u001b[0;32m      7\u001b[0m \u001b[38;5;28;01mfrom\u001b[39;00m \u001b[38;5;21;01mpandas_profiling\u001b[39;00m\u001b[38;5;21;01m.\u001b[39;00m\u001b[38;5;21;01mprofile_report\u001b[39;00m \u001b[38;5;28;01mimport\u001b[39;00m ProfileReport\n\u001b[0;32m      8\u001b[0m \u001b[38;5;28;01mfrom\u001b[39;00m \u001b[38;5;21;01mpandas_profiling\u001b[39;00m\u001b[38;5;21;01m.\u001b[39;00m\u001b[38;5;21;01mversion\u001b[39;00m \u001b[38;5;28;01mimport\u001b[39;00m __version__\n",
            "File \u001b[1;32md:\\projects\\home_price_predict\\home_predict\\Lib\\site-packages\\pandas_profiling\\controller\\pandas_decorator.py:4\u001b[0m\n\u001b[0;32m      1\u001b[0m \u001b[38;5;124;03m\"\"\"This file add the decorator on the DataFrame object.\"\"\"\u001b[39;00m\n\u001b[0;32m      2\u001b[0m \u001b[38;5;28;01mfrom\u001b[39;00m \u001b[38;5;21;01mpandas\u001b[39;00m \u001b[38;5;28;01mimport\u001b[39;00m DataFrame\n\u001b[1;32m----> 4\u001b[0m \u001b[38;5;28;01mfrom\u001b[39;00m \u001b[38;5;21;01mpandas_profiling\u001b[39;00m\u001b[38;5;21;01m.\u001b[39;00m\u001b[38;5;21;01mprofile_report\u001b[39;00m \u001b[38;5;28;01mimport\u001b[39;00m ProfileReport\n\u001b[0;32m      7\u001b[0m \u001b[38;5;28;01mdef\u001b[39;00m \u001b[38;5;21mprofile_report\u001b[39m(df: DataFrame, \u001b[38;5;241m*\u001b[39m\u001b[38;5;241m*\u001b[39mkwargs) \u001b[38;5;241m-\u001b[39m\u001b[38;5;241m>\u001b[39m ProfileReport:\n\u001b[0;32m      8\u001b[0m \u001b[38;5;250m    \u001b[39m\u001b[38;5;124;03m\"\"\"Profile a DataFrame.\u001b[39;00m\n\u001b[0;32m      9\u001b[0m \n\u001b[0;32m     10\u001b[0m \u001b[38;5;124;03m    Args:\u001b[39;00m\n\u001b[1;32m   (...)\u001b[0m\n\u001b[0;32m     15\u001b[0m \u001b[38;5;124;03m        A ProfileReport of the DataFrame.\u001b[39;00m\n\u001b[0;32m     16\u001b[0m \u001b[38;5;124;03m    \"\"\"\u001b[39;00m\n",
            "File \u001b[1;32md:\\projects\\home_price_predict\\home_predict\\Lib\\site-packages\\pandas_profiling\\profile_report.py:13\u001b[0m\n\u001b[0;32m     10\u001b[0m \u001b[38;5;28;01mfrom\u001b[39;00m \u001b[38;5;21;01mtqdm\u001b[39;00m\u001b[38;5;21;01m.\u001b[39;00m\u001b[38;5;21;01mauto\u001b[39;00m \u001b[38;5;28;01mimport\u001b[39;00m tqdm\n\u001b[0;32m     11\u001b[0m \u001b[38;5;28;01mfrom\u001b[39;00m \u001b[38;5;21;01mvisions\u001b[39;00m \u001b[38;5;28;01mimport\u001b[39;00m VisionsTypeset\n\u001b[1;32m---> 13\u001b[0m \u001b[38;5;28;01mfrom\u001b[39;00m \u001b[38;5;21;01mpandas_profiling\u001b[39;00m\u001b[38;5;21;01m.\u001b[39;00m\u001b[38;5;21;01mconfig\u001b[39;00m \u001b[38;5;28;01mimport\u001b[39;00m Config, Settings\n\u001b[0;32m     14\u001b[0m \u001b[38;5;28;01mfrom\u001b[39;00m \u001b[38;5;21;01mpandas_profiling\u001b[39;00m\u001b[38;5;21;01m.\u001b[39;00m\u001b[38;5;21;01mexpectations_report\u001b[39;00m \u001b[38;5;28;01mimport\u001b[39;00m ExpectationsReport\n\u001b[0;32m     15\u001b[0m \u001b[38;5;28;01mfrom\u001b[39;00m \u001b[38;5;21;01mpandas_profiling\u001b[39;00m\u001b[38;5;21;01m.\u001b[39;00m\u001b[38;5;21;01mmodel\u001b[39;00m\u001b[38;5;21;01m.\u001b[39;00m\u001b[38;5;21;01mdescribe\u001b[39;00m \u001b[38;5;28;01mimport\u001b[39;00m describe \u001b[38;5;28;01mas\u001b[39;00m describe_df\n",
            "File \u001b[1;32md:\\projects\\home_price_predict\\home_predict\\Lib\\site-packages\\pandas_profiling\\config.py:5\u001b[0m\n\u001b[0;32m      2\u001b[0m \u001b[38;5;28;01mfrom\u001b[39;00m \u001b[38;5;21;01menum\u001b[39;00m \u001b[38;5;28;01mimport\u001b[39;00m Enum\n\u001b[0;32m      3\u001b[0m \u001b[38;5;28;01mfrom\u001b[39;00m \u001b[38;5;21;01mtyping\u001b[39;00m \u001b[38;5;28;01mimport\u001b[39;00m Any, Dict, List, Optional\n\u001b[1;32m----> 5\u001b[0m \u001b[38;5;28;01mfrom\u001b[39;00m \u001b[38;5;21;01mpydantic\u001b[39;00m \u001b[38;5;28;01mimport\u001b[39;00m BaseModel, BaseSettings, Field\n\u001b[0;32m      8\u001b[0m \u001b[38;5;28;01mdef\u001b[39;00m \u001b[38;5;21m_merge_dictionaries\u001b[39m(dict1: \u001b[38;5;28mdict\u001b[39m, dict2: \u001b[38;5;28mdict\u001b[39m) \u001b[38;5;241m-\u001b[39m\u001b[38;5;241m>\u001b[39m \u001b[38;5;28mdict\u001b[39m:\n\u001b[0;32m      9\u001b[0m \u001b[38;5;250m    \u001b[39m\u001b[38;5;124;03m\"\"\"\u001b[39;00m\n\u001b[0;32m     10\u001b[0m \u001b[38;5;124;03m    Recursive merge dictionaries.\u001b[39;00m\n\u001b[0;32m     11\u001b[0m \n\u001b[1;32m   (...)\u001b[0m\n\u001b[0;32m     14\u001b[0m \u001b[38;5;124;03m    :return: Merged dictionary\u001b[39;00m\n\u001b[0;32m     15\u001b[0m \u001b[38;5;124;03m    \"\"\"\u001b[39;00m\n",
            "File \u001b[1;32md:\\projects\\home_price_predict\\home_predict\\Lib\\site-packages\\pydantic\\__init__.py:402\u001b[0m, in \u001b[0;36m__getattr__\u001b[1;34m(attr_name)\u001b[0m\n\u001b[0;32m    400\u001b[0m dynamic_attr \u001b[38;5;241m=\u001b[39m _dynamic_imports\u001b[38;5;241m.\u001b[39mget(attr_name)\n\u001b[0;32m    401\u001b[0m \u001b[38;5;28;01mif\u001b[39;00m dynamic_attr \u001b[38;5;129;01mis\u001b[39;00m \u001b[38;5;28;01mNone\u001b[39;00m:\n\u001b[1;32m--> 402\u001b[0m     \u001b[38;5;28;01mreturn\u001b[39;00m \u001b[43m_getattr_migration\u001b[49m\u001b[43m(\u001b[49m\u001b[43mattr_name\u001b[49m\u001b[43m)\u001b[49m\n\u001b[0;32m    404\u001b[0m package, module_name \u001b[38;5;241m=\u001b[39m dynamic_attr\n\u001b[0;32m    406\u001b[0m \u001b[38;5;28;01mif\u001b[39;00m module_name \u001b[38;5;241m==\u001b[39m \u001b[38;5;124m'\u001b[39m\u001b[38;5;124m__module__\u001b[39m\u001b[38;5;124m'\u001b[39m:\n",
            "File \u001b[1;32md:\\projects\\home_price_predict\\home_predict\\Lib\\site-packages\\pydantic\\_migration.py:296\u001b[0m, in \u001b[0;36mgetattr_migration.<locals>.wrapper\u001b[1;34m(name)\u001b[0m\n\u001b[0;32m    294\u001b[0m     \u001b[38;5;28;01mreturn\u001b[39;00m import_string(REDIRECT_TO_V1[import_path])\n\u001b[0;32m    295\u001b[0m \u001b[38;5;28;01mif\u001b[39;00m import_path \u001b[38;5;241m==\u001b[39m \u001b[38;5;124m'\u001b[39m\u001b[38;5;124mpydantic:BaseSettings\u001b[39m\u001b[38;5;124m'\u001b[39m:\n\u001b[1;32m--> 296\u001b[0m     \u001b[38;5;28;01mraise\u001b[39;00m PydanticImportError(\n\u001b[0;32m    297\u001b[0m         \u001b[38;5;124m'\u001b[39m\u001b[38;5;124m`BaseSettings` has been moved to the `pydantic-settings` package. \u001b[39m\u001b[38;5;124m'\u001b[39m\n\u001b[0;32m    298\u001b[0m         \u001b[38;5;124mf\u001b[39m\u001b[38;5;124m'\u001b[39m\u001b[38;5;124mSee https://docs.pydantic.dev/\u001b[39m\u001b[38;5;132;01m{\u001b[39;00mversion_short()\u001b[38;5;132;01m}\u001b[39;00m\u001b[38;5;124m/migration/#basesettings-has-moved-to-pydantic-settings \u001b[39m\u001b[38;5;124m'\u001b[39m\n\u001b[0;32m    299\u001b[0m         \u001b[38;5;124m'\u001b[39m\u001b[38;5;124mfor more details.\u001b[39m\u001b[38;5;124m'\u001b[39m\n\u001b[0;32m    300\u001b[0m     )\n\u001b[0;32m    301\u001b[0m \u001b[38;5;28;01mif\u001b[39;00m import_path \u001b[38;5;129;01min\u001b[39;00m REMOVED_IN_V2:\n\u001b[0;32m    302\u001b[0m     \u001b[38;5;28;01mraise\u001b[39;00m PydanticImportError(\u001b[38;5;124mf\u001b[39m\u001b[38;5;124m'\u001b[39m\u001b[38;5;124m`\u001b[39m\u001b[38;5;132;01m{\u001b[39;00mimport_path\u001b[38;5;132;01m}\u001b[39;00m\u001b[38;5;124m` has been removed in V2.\u001b[39m\u001b[38;5;124m'\u001b[39m)\n",
            "\u001b[1;31mPydanticImportError\u001b[0m: `BaseSettings` has been moved to the `pydantic-settings` package. See https://docs.pydantic.dev/2.9/migration/#basesettings-has-moved-to-pydantic-settings for more details.\n\nFor further information visit https://errors.pydantic.dev/2.9/u/import-error"
          ]
        }
      ],
      "source": [
        "import pandas as pd\n",
        "from pandas_profiling import ProfileReport\n",
        "\n",
        "# Load your dataset\n",
        "df = pd.read_csv('../gurgaon_data/gurgaon_properties_cleaned_v2.csv').drop_duplicates()\n",
        "\n",
        "# Create the ProfileReport object\n",
        "profile = ProfileReport(df, title='Pandas Profiling Report', explorative=True)\n",
        "\n",
        "# Generate the report\n",
        "profile.to_file(\"output_report.html\")\n"
      ]
    },
    {
      "cell_type": "code",
      "execution_count": 3,
      "metadata": {
        "colab": {
          "base_uri": "https://localhost:8080/",
          "height": 359
        },
        "id": "3bJ8V_pAls4V",
        "outputId": "39d7e419-0746-4f2c-bd35-d3248f8e9ba4"
      },
      "outputs": [
        {
          "name": "stdout",
          "output_type": "stream",
          "text": [
            "Found existing installation: pydantic 2.9.1\n",
            "Uninstalling pydantic-2.9.1:\n",
            "  Successfully uninstalled pydantic-2.9.1\n",
            "Collecting pydantic==1.10.2\n",
            "  Downloading pydantic-1.10.2-cp311-cp311-win_amd64.whl.metadata (140 kB)\n",
            "Requirement already satisfied: typing-extensions>=4.1.0 in d:\\projects\\home_price_predict\\home_predict\\lib\\site-packages (from pydantic==1.10.2) (4.12.2)\n",
            "Downloading pydantic-1.10.2-cp311-cp311-win_amd64.whl (2.1 MB)\n",
            "   ---------------------------------------- 0.0/2.1 MB ? eta -:--:--\n",
            "   ----- ---------------------------------- 0.3/2.1 MB ? eta -:--:--\n",
            "   ---------- ----------------------------- 0.5/2.1 MB 1.1 MB/s eta 0:00:02\n",
            "   --------------- ------------------------ 0.8/2.1 MB 1.2 MB/s eta 0:00:02\n",
            "   -------------------- ------------------- 1.0/2.1 MB 1.4 MB/s eta 0:00:01\n",
            "   ------------------------- -------------- 1.3/2.1 MB 1.3 MB/s eta 0:00:01\n",
            "   ------------------------------ --------- 1.6/2.1 MB 1.2 MB/s eta 0:00:01\n",
            "   ----------------------------------- ---- 1.8/2.1 MB 1.3 MB/s eta 0:00:01\n",
            "   ---------------------------------------- 2.1/2.1 MB 1.3 MB/s eta 0:00:00\n",
            "Installing collected packages: pydantic\n",
            "Successfully installed pydantic-1.10.2\n"
          ]
        }
      ],
      "source": [
        "!pip uninstall pydantic -y\n",
        "!pip install pydantic==1.10.2\n"
      ]
    },
    {
      "cell_type": "code",
      "execution_count": 6,
      "metadata": {
        "colab": {
          "base_uri": "https://localhost:8080/"
        },
        "id": "YqVS9G0UnJl6",
        "outputId": "039a3702-0abc-4db7-a78c-27deeb92801b"
      },
      "outputs": [
        {
          "name": "stdout",
          "output_type": "stream",
          "text": [
            "Requirement already satisfied: pandas-profiling==3.2.0 in d:\\projects\\home_price_predict\\home_predict\\lib\\site-packages (3.2.0)\n",
            "Requirement already satisfied: joblib~=1.1.0 in d:\\projects\\home_price_predict\\home_predict\\lib\\site-packages (from pandas-profiling==3.2.0) (1.1.1)\n",
            "Requirement already satisfied: scipy>=1.4.1 in d:\\projects\\home_price_predict\\home_predict\\lib\\site-packages (from pandas-profiling==3.2.0) (1.14.1)\n",
            "Requirement already satisfied: pandas!=1.0.0,!=1.0.1,!=1.0.2,!=1.1.0,>=0.25.3 in d:\\projects\\home_price_predict\\home_predict\\lib\\site-packages (from pandas-profiling==3.2.0) (2.2.2)\n",
            "Requirement already satisfied: matplotlib>=3.2.0 in d:\\projects\\home_price_predict\\home_predict\\lib\\site-packages (from pandas-profiling==3.2.0) (3.9.2)\n",
            "Requirement already satisfied: pydantic>=1.8.1 in d:\\projects\\home_price_predict\\home_predict\\lib\\site-packages (from pandas-profiling==3.2.0) (1.10.12)\n",
            "Requirement already satisfied: PyYAML>=5.0.0 in d:\\projects\\home_price_predict\\home_predict\\lib\\site-packages (from pandas-profiling==3.2.0) (6.0.2)\n",
            "Requirement already satisfied: jinja2>=2.11.1 in d:\\projects\\home_price_predict\\home_predict\\lib\\site-packages (from pandas-profiling==3.2.0) (3.1.4)\n",
            "Requirement already satisfied: markupsafe~=2.1.1 in d:\\projects\\home_price_predict\\home_predict\\lib\\site-packages (from pandas-profiling==3.2.0) (2.1.5)\n",
            "Requirement already satisfied: visions==0.7.4 in d:\\projects\\home_price_predict\\home_predict\\lib\\site-packages (from visions[type_image_path]==0.7.4->pandas-profiling==3.2.0) (0.7.4)\n",
            "Requirement already satisfied: numpy>=1.16.0 in d:\\projects\\home_price_predict\\home_predict\\lib\\site-packages (from pandas-profiling==3.2.0) (2.1.1)\n",
            "Requirement already satisfied: htmlmin>=0.1.12 in d:\\projects\\home_price_predict\\home_predict\\lib\\site-packages (from pandas-profiling==3.2.0) (0.1.12)\n",
            "Requirement already satisfied: missingno>=0.4.2 in d:\\projects\\home_price_predict\\home_predict\\lib\\site-packages (from pandas-profiling==3.2.0) (0.5.2)\n",
            "Requirement already satisfied: phik>=0.11.1 in d:\\projects\\home_price_predict\\home_predict\\lib\\site-packages (from pandas-profiling==3.2.0) (0.12.4)\n",
            "Requirement already satisfied: tangled-up-in-unicode==0.2.0 in d:\\projects\\home_price_predict\\home_predict\\lib\\site-packages (from pandas-profiling==3.2.0) (0.2.0)\n",
            "Requirement already satisfied: requests>=2.24.0 in d:\\projects\\home_price_predict\\home_predict\\lib\\site-packages (from pandas-profiling==3.2.0) (2.32.3)\n",
            "Requirement already satisfied: tqdm>=4.48.2 in d:\\projects\\home_price_predict\\home_predict\\lib\\site-packages (from pandas-profiling==3.2.0) (4.66.5)\n",
            "Requirement already satisfied: seaborn>=0.10.1 in d:\\projects\\home_price_predict\\home_predict\\lib\\site-packages (from pandas-profiling==3.2.0) (0.13.2)\n",
            "Requirement already satisfied: multimethod>=1.4 in d:\\projects\\home_price_predict\\home_predict\\lib\\site-packages (from pandas-profiling==3.2.0) (1.12)\n",
            "Requirement already satisfied: attrs>=19.3.0 in d:\\projects\\home_price_predict\\home_predict\\lib\\site-packages (from visions==0.7.4->visions[type_image_path]==0.7.4->pandas-profiling==3.2.0) (24.2.0)\n",
            "Requirement already satisfied: networkx>=2.4 in d:\\projects\\home_price_predict\\home_predict\\lib\\site-packages (from visions==0.7.4->visions[type_image_path]==0.7.4->pandas-profiling==3.2.0) (3.3)\n",
            "Requirement already satisfied: imagehash in d:\\projects\\home_price_predict\\home_predict\\lib\\site-packages (from visions[type_image_path]==0.7.4->pandas-profiling==3.2.0) (4.3.1)\n",
            "Requirement already satisfied: Pillow in d:\\projects\\home_price_predict\\home_predict\\lib\\site-packages (from visions[type_image_path]==0.7.4->pandas-profiling==3.2.0) (10.4.0)\n",
            "Requirement already satisfied: contourpy>=1.0.1 in d:\\projects\\home_price_predict\\home_predict\\lib\\site-packages (from matplotlib>=3.2.0->pandas-profiling==3.2.0) (1.3.0)\n",
            "Requirement already satisfied: cycler>=0.10 in d:\\projects\\home_price_predict\\home_predict\\lib\\site-packages (from matplotlib>=3.2.0->pandas-profiling==3.2.0) (0.12.1)\n",
            "Requirement already satisfied: fonttools>=4.22.0 in d:\\projects\\home_price_predict\\home_predict\\lib\\site-packages (from matplotlib>=3.2.0->pandas-profiling==3.2.0) (4.53.1)\n",
            "Requirement already satisfied: kiwisolver>=1.3.1 in d:\\projects\\home_price_predict\\home_predict\\lib\\site-packages (from matplotlib>=3.2.0->pandas-profiling==3.2.0) (1.4.7)\n",
            "Requirement already satisfied: packaging>=20.0 in d:\\projects\\home_price_predict\\home_predict\\lib\\site-packages (from matplotlib>=3.2.0->pandas-profiling==3.2.0) (24.1)\n",
            "Requirement already satisfied: pyparsing>=2.3.1 in d:\\projects\\home_price_predict\\home_predict\\lib\\site-packages (from matplotlib>=3.2.0->pandas-profiling==3.2.0) (3.1.4)\n",
            "Requirement already satisfied: python-dateutil>=2.7 in d:\\projects\\home_price_predict\\home_predict\\lib\\site-packages (from matplotlib>=3.2.0->pandas-profiling==3.2.0) (2.9.0.post0)\n",
            "Requirement already satisfied: pytz>=2020.1 in d:\\projects\\home_price_predict\\home_predict\\lib\\site-packages (from pandas!=1.0.0,!=1.0.1,!=1.0.2,!=1.1.0,>=0.25.3->pandas-profiling==3.2.0) (2024.2)\n",
            "Requirement already satisfied: tzdata>=2022.7 in d:\\projects\\home_price_predict\\home_predict\\lib\\site-packages (from pandas!=1.0.0,!=1.0.1,!=1.0.2,!=1.1.0,>=0.25.3->pandas-profiling==3.2.0) (2024.1)\n",
            "Requirement already satisfied: typing-extensions>=4.2.0 in d:\\projects\\home_price_predict\\home_predict\\lib\\site-packages (from pydantic>=1.8.1->pandas-profiling==3.2.0) (4.12.2)\n",
            "Requirement already satisfied: charset-normalizer<4,>=2 in d:\\projects\\home_price_predict\\home_predict\\lib\\site-packages (from requests>=2.24.0->pandas-profiling==3.2.0) (3.3.2)\n",
            "Requirement already satisfied: idna<4,>=2.5 in d:\\projects\\home_price_predict\\home_predict\\lib\\site-packages (from requests>=2.24.0->pandas-profiling==3.2.0) (3.9)\n",
            "Requirement already satisfied: urllib3<3,>=1.21.1 in d:\\projects\\home_price_predict\\home_predict\\lib\\site-packages (from requests>=2.24.0->pandas-profiling==3.2.0) (2.2.3)\n",
            "Requirement already satisfied: certifi>=2017.4.17 in d:\\projects\\home_price_predict\\home_predict\\lib\\site-packages (from requests>=2.24.0->pandas-profiling==3.2.0) (2024.8.30)\n",
            "Requirement already satisfied: colorama in d:\\projects\\home_price_predict\\home_predict\\lib\\site-packages (from tqdm>=4.48.2->pandas-profiling==3.2.0) (0.4.6)\n",
            "Requirement already satisfied: six>=1.5 in d:\\projects\\home_price_predict\\home_predict\\lib\\site-packages (from python-dateutil>=2.7->matplotlib>=3.2.0->pandas-profiling==3.2.0) (1.16.0)\n",
            "Requirement already satisfied: PyWavelets in d:\\projects\\home_price_predict\\home_predict\\lib\\site-packages (from imagehash->visions[type_image_path]==0.7.4->pandas-profiling==3.2.0) (1.7.0)\n"
          ]
        }
      ],
      "source": [
        "!pip install pandas-profiling==3.2.0"
      ]
    },
    {
      "cell_type": "code",
      "execution_count": 5,
      "metadata": {
        "colab": {
          "base_uri": "https://localhost:8080/",
          "height": 411
        },
        "id": "tkFrtqNqlv30",
        "outputId": "c4ce12ff-7012-4d26-925f-5e77031f33c1"
      },
      "outputs": [
        {
          "name": "stdout",
          "output_type": "stream",
          "text": [
            "Collecting pydantic==1.10.12\n",
            "  Downloading pydantic-1.10.12-cp311-cp311-win_amd64.whl.metadata (150 kB)\n",
            "Requirement already satisfied: typing-extensions>=4.2.0 in d:\\projects\\home_price_predict\\home_predict\\lib\\site-packages (from pydantic==1.10.12) (4.12.2)\n",
            "Downloading pydantic-1.10.12-cp311-cp311-win_amd64.whl (2.1 MB)\n",
            "   ---------------------------------------- 0.0/2.1 MB ? eta -:--:--\n",
            "   ---- ----------------------------------- 0.3/2.1 MB ? eta -:--:--\n",
            "   --------- ------------------------------ 0.5/2.1 MB 1.9 MB/s eta 0:00:01\n",
            "   -------------- ------------------------- 0.8/2.1 MB 2.0 MB/s eta 0:00:01\n",
            "   ------------------- -------------------- 1.0/2.1 MB 1.4 MB/s eta 0:00:01\n",
            "   ------------------------ --------------- 1.3/2.1 MB 1.4 MB/s eta 0:00:01\n",
            "   ----------------------------- ---------- 1.6/2.1 MB 1.4 MB/s eta 0:00:01\n",
            "   ---------------------------------------- 2.1/2.1 MB 1.5 MB/s eta 0:00:00\n",
            "Installing collected packages: pydantic\n",
            "  Attempting uninstall: pydantic\n",
            "    Found existing installation: pydantic 1.10.2\n",
            "    Uninstalling pydantic-1.10.2:\n",
            "      Successfully uninstalled pydantic-1.10.2\n",
            "Successfully installed pydantic-1.10.12\n"
          ]
        }
      ],
      "source": [
        "!pip install pydantic==1.10.12\n"
      ]
    }
  ],
  "metadata": {
    "colab": {
      "provenance": []
    },
    "kernelspec": {
      "display_name": "Python 3",
      "name": "python3"
    },
    "language_info": {
      "codemirror_mode": {
        "name": "ipython",
        "version": 3
      },
      "file_extension": ".py",
      "mimetype": "text/x-python",
      "name": "python",
      "nbconvert_exporter": "python",
      "pygments_lexer": "ipython3",
      "version": "3.11.0"
    }
  },
  "nbformat": 4,
  "nbformat_minor": 0
}
